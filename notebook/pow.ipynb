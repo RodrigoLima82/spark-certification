{
 "cells": [
  {
   "cell_type": "markdown",
   "metadata": {},
   "source": [
    "# POW()"
   ]
  },
  {
   "cell_type": "code",
   "execution_count": 3,
   "metadata": {},
   "outputs": [],
   "source": [
    "from pyspark.sql import SparkSession\n",
    "from pyspark.sql.functions import *\n",
    "from pyspark.sql.types import *\n",
    "\n",
    "spark = (\n",
    "    SparkSession.builder\n",
    "    .appName(\"example-pow\")\n",
    "    .getOrCreate()\n",
    ")\n"
   ]
  },
  {
   "cell_type": "code",
   "execution_count": 4,
   "metadata": {},
   "outputs": [
    {
     "name": "stdout",
     "output_type": "stream",
     "text": [
      "root\n",
      " |-- transactionId: integer (nullable = true)\n",
      " |-- predError: integer (nullable = true)\n",
      " |-- value: integer (nullable = true)\n",
      " |-- storeId: integer (nullable = true)\n",
      " |-- productId: integer (nullable = true)\n",
      " |-- f: integer (nullable = true)\n",
      " |-- transactionDate: long (nullable = true)\n",
      "\n",
      "+-------------+---------+-----+-------+---------+----+---------------+\n",
      "|transactionId|predError|value|storeId|productId|   f|transactionDate|\n",
      "+-------------+---------+-----+-------+---------+----+---------------+\n",
      "|            1|        3|    4|     25|        1|null|     1587915332|\n",
      "|            2|        6|    7|      2|        2|null|     1586815312|\n",
      "|            3|        3| null|     25|        3|null|     1585824821|\n",
      "|            4|     null| null|      3|        2|null|     1583244275|\n",
      "|            5|     null| null|   null|        2|null|     1575285427|\n",
      "|            6|        3|    2|     25|        2|null|     1572733275|\n",
      "+-------------+---------+-----+-------+---------+----+---------------+\n",
      "\n"
     ]
    }
   ],
   "source": [
    "data = [(1, 3, 4, 25, 1, None, 1587915332),\n",
    "         (2, 6, 7, 2, 2, None, 1586815312),\n",
    "         (3, 3, None, 25, 3, None, 1585824821),\n",
    "         (4, None, None, 3, 2, None, 1583244275),\n",
    "         (5, None, None, None, 2, None, 1575285427),\n",
    "         (6, 3, 2, 25, 2, None, 1572733275)]\n",
    "\n",
    "schema = StructType([StructField('transactionId', IntegerType(), True),\n",
    "                     StructField('predError', IntegerType(), True),\n",
    "                     StructField('value', IntegerType(), True),\n",
    "                     StructField('storeId', IntegerType(), True),\n",
    "                     StructField('productId', IntegerType(), True),\n",
    "                     StructField('f', IntegerType(), True),\n",
    "                     StructField('transactionDate', LongType(), True)])\n",
    "\n",
    "transactionsDf = spark.createDataFrame(data=data, schema=schema)\n",
    "transactionsDf.printSchema()\n",
    "transactionsDf.show()"
   ]
  },
  {
   "cell_type": "code",
   "execution_count": 12,
   "metadata": {},
   "outputs": [
    {
     "name": "stdout",
     "output_type": "stream",
     "text": [
      "+-------------+---------+-----+-------+---------+----+---------------+----------------+\n",
      "|transactionId|predError|value|storeId|productId|   f|transactionDate|predErrorSquared|\n",
      "+-------------+---------+-----+-------+---------+----+---------------+----------------+\n",
      "|            1|        3|    4|     25|        1|null|     1587915332|            27.0|\n",
      "|            2|        6|    7|      2|        2|null|     1586815312|           216.0|\n",
      "|            3|        3| null|     25|        3|null|     1585824821|            27.0|\n",
      "|            4|     null| null|      3|        2|null|     1583244275|            null|\n",
      "|            5|     null| null|   null|        2|null|     1575285427|            null|\n",
      "|            6|        3|    2|     25|        2|null|     1572733275|            27.0|\n",
      "+-------------+---------+-----+-------+---------+----+---------------+----------------+\n",
      "\n"
     ]
    }
   ],
   "source": [
    "transactionsDf.withColumn(\"predErrorSquared\", pow(col(\"predError\"), lit(3))).show()"
   ]
  },
  {
   "cell_type": "code",
   "execution_count": null,
   "metadata": {},
   "outputs": [],
   "source": [
    "#transactionsDf.withColumn(\"predError\", pow(col(\"predErrorSquared\"), 2)).show()\n",
    "#transactionsDf.withColumnRenamed(\"predErrorSquared\", pow(predError, 2)).show()\n",
    "#transactionsDf.withColumn(\"predErrorSquared\", pow(predError, lit(2))).show()\n",
    "#transactionsDf.withColumn(\"predErrorSquared\", \"predError\"**2).show()"
   ]
  }
 ],
 "metadata": {
  "interpreter": {
   "hash": "ac6ad6cad6e86b8f8ebaedbe94ebc31d728d6c0d8223a99e9449734cfa4d7995"
  },
  "kernelspec": {
   "display_name": "Python 3.8.3 64-bit ('base': conda)",
   "name": "python3"
  },
  "language_info": {
   "codemirror_mode": {
    "name": "ipython",
    "version": 3
   },
   "file_extension": ".py",
   "mimetype": "text/x-python",
   "name": "python",
   "nbconvert_exporter": "python",
   "pygments_lexer": "ipython3",
   "version": "3.8.3"
  },
  "orig_nbformat": 4
 },
 "nbformat": 4,
 "nbformat_minor": 2
}
