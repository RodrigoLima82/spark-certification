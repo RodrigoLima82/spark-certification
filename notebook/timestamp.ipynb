{
 "cells": [
  {
   "cell_type": "markdown",
   "metadata": {},
   "source": [
    "# TO_TIMESTAMP()"
   ]
  },
  {
   "cell_type": "code",
   "execution_count": 1,
   "metadata": {},
   "outputs": [],
   "source": [
    "import pyspark\n",
    "from pyspark.sql import SparkSession\n",
    "from pyspark.sql.functions import *\n",
    "from pyspark.sql.types import *\n",
    "\n",
    "spark = (\n",
    "    SparkSession.builder\n",
    "    .appName(\"example-timestamp\")\n",
    "    .getOrCreate()\n",
    ")"
   ]
  },
  {
   "cell_type": "code",
   "execution_count": 11,
   "metadata": {},
   "outputs": [
    {
     "name": "stdout",
     "output_type": "stream",
     "text": [
      "root\n",
      " |-- id: string (nullable = true)\n",
      " |-- input_timestamp: string (nullable = true)\n",
      "\n"
     ]
    }
   ],
   "source": [
    "df=spark.createDataFrame(\n",
    "        data   = [ (\"1\",\"2019-06-24 12:01:19.000\")],\n",
    "        schema = [\"id\",\"input_timestamp\"])\n",
    "\n",
    "df.printSchema()"
   ]
  },
  {
   "cell_type": "code",
   "execution_count": 12,
   "metadata": {},
   "outputs": [
    {
     "name": "stdout",
     "output_type": "stream",
     "text": [
      "+---+-----------------------+-------------------+\n",
      "|id |input_timestamp        |timestamp          |\n",
      "+---+-----------------------+-------------------+\n",
      "|1  |2019-06-24 12:01:19.000|2019-06-24 12:01:19|\n",
      "+---+-----------------------+-------------------+\n",
      "\n",
      "root\n",
      " |-- id: string (nullable = true)\n",
      " |-- input_timestamp: string (nullable = true)\n",
      " |-- timestamp: timestamp (nullable = true)\n",
      "\n"
     ]
    }
   ],
   "source": [
    "# Timestamp String to DateType\n",
    "df = df.withColumn(\"timestamp\",to_timestamp(\"input_timestamp\"))\n",
    "df.show(truncate=False)\n",
    "df.printSchema()\n"
   ]
  },
  {
   "cell_type": "code",
   "execution_count": 14,
   "metadata": {},
   "outputs": [
    {
     "name": "stdout",
     "output_type": "stream",
     "text": [
      "root\n",
      " |-- id: string (nullable = true)\n",
      " |-- input_timestamp: string (nullable = true)\n",
      " |-- timestamp: timestamp (nullable = true)\n",
      " |-- timestamp_string: string (nullable = true)\n",
      "\n"
     ]
    }
   ],
   "source": [
    "# Using Cast to convert TimestampType to DateType\n",
    "df = df.withColumn('timestamp_string', to_timestamp('timestamp').cast('string'))\n",
    "df.printSchema()"
   ]
  },
  {
   "cell_type": "markdown",
   "metadata": {},
   "source": [
    "## Custom string format to Timestamp type"
   ]
  },
  {
   "cell_type": "code",
   "execution_count": 15,
   "metadata": {},
   "outputs": [
    {
     "name": "stdout",
     "output_type": "stream",
     "text": [
      "+-------------------------------------------------------------------+\n",
      "|to_timestamp('06-24-2019 12:01:19.000', 'MM-dd-yyyy HH:mm:ss.SSSS')|\n",
      "+-------------------------------------------------------------------+\n",
      "|                                                2019-06-24 12:01:19|\n",
      "+-------------------------------------------------------------------+\n",
      "\n"
     ]
    }
   ],
   "source": [
    "df.select(to_timestamp(lit('06-24-2019 12:01:19.000'),'MM-dd-yyyy HH:mm:ss.SSSS')).show()"
   ]
  },
  {
   "cell_type": "markdown",
   "metadata": {},
   "source": [
    "## SQL Example"
   ]
  },
  {
   "cell_type": "code",
   "execution_count": 18,
   "metadata": {},
   "outputs": [
    {
     "name": "stdout",
     "output_type": "stream",
     "text": [
      "+-------------------+\n",
      "|          timestamp|\n",
      "+-------------------+\n",
      "|2019-06-24 12:01:19|\n",
      "+-------------------+\n",
      "\n",
      "+-------------------+\n",
      "|          timestamp|\n",
      "+-------------------+\n",
      "|2019-06-24 12:01:19|\n",
      "+-------------------+\n",
      "\n",
      "+-------------------+\n",
      "|          timestamp|\n",
      "+-------------------+\n",
      "|2019-06-24 12:01:19|\n",
      "+-------------------+\n",
      "\n"
     ]
    }
   ],
   "source": [
    "# SQL string to TimestampType\n",
    "spark.sql(\"select to_timestamp('2019-06-24 12:01:19.000') as timestamp\").show()\n",
    "\n",
    "# SQL CAST timestamp string to TimestampType\n",
    "spark.sql(\"select timestamp('2019-06-24 12:01:19.000') as timestamp\").show()\n",
    "\n",
    "# SQL Custom string to TimestampType\n",
    "spark.sql(\"select to_timestamp('06-24-2019 12:01:19.000','MM-dd-yyyy HH:mm:ss.SSSS') as timestamp\").show()\n"
   ]
  },
  {
   "cell_type": "markdown",
   "metadata": {},
   "source": [
    "Which of the following code blocks creates a new one-column, two-row DataFrame dfDates with column date of type timestamp?\n",
    "\n",
    ">\n",
    "\n",
    "- `dfDates = spark.createDataFrame([\"23/01/2022 11:28:12\",\"24/01/2022 10:58:34\"], [\"date\"])`\n",
    "- `dfDates = dfDates.withColumn(\"date\", to_timestamp(\"dd/MM/yyyy HH:mm:ss\", \"date\"))`\n",
    "- `dfDates = spark.createDataFrame([(\"23/01/2022 11:28:12\",),(\"24/01/2022 10:58:34\",)], [\"date\"])`\n",
    "- `dfDates = dfDates.withColumnRenamed(\"date\", to_timestamp(\"date\", \"yyyy-MM-dd HH:mm:ss\"))`\n",
    "- `dfDates = spark.createDataFrame([(\"23/01/2022 11:28:12\",),(\"24/01/2022 10:58:34\",)], [\"date\"])`\n",
    "- `dfDates = dfDates.withColumn(\"date\", to_timestamp(\"date\", \"dd/MM/yyyy HH:mm:ss\"))`"
   ]
  },
  {
   "cell_type": "code",
   "execution_count": 29,
   "metadata": {},
   "outputs": [
    {
     "name": "stdout",
     "output_type": "stream",
     "text": [
      "root\n",
      " |-- date: timestamp (nullable = true)\n",
      "\n",
      "+-------------------+\n",
      "|               date|\n",
      "+-------------------+\n",
      "|2022-01-23 11:28:12|\n",
      "|2022-01-24 10:58:34|\n",
      "+-------------------+\n",
      "\n"
     ]
    }
   ],
   "source": [
    "dfDates = dfDates.withColumn(\"date\", to_timestamp(\"date\", \"dd/MM/yyyy HH:mm:ss\"))\n",
    "dfDates.printSchema()\n",
    "dfDates.show()"
   ]
  },
  {
   "cell_type": "code",
   "execution_count": 25,
   "metadata": {},
   "outputs": [
    {
     "name": "stdout",
     "output_type": "stream",
     "text": [
      "root\n",
      " |-- date: string (nullable = true)\n",
      "\n",
      "+-------------------+\n",
      "|               date|\n",
      "+-------------------+\n",
      "|23/01/2022 11:28:12|\n",
      "|24/01/2022 10:58:34|\n",
      "+-------------------+\n",
      "\n"
     ]
    }
   ],
   "source": [
    "dfDates = spark.createDataFrame([(\"23/01/2022 11:28:12\",),(\"24/01/2022 10:58:34\",)], [\"date\"])\n",
    "dfDates.printSchema()\n",
    "dfDates.show()"
   ]
  },
  {
   "cell_type": "code",
   "execution_count": 26,
   "metadata": {},
   "outputs": [
    {
     "name": "stdout",
     "output_type": "stream",
     "text": [
      "root\n",
      " |-- date: string (nullable = true)\n",
      "\n",
      "+-------------------+\n",
      "|               date|\n",
      "+-------------------+\n",
      "|23/01/2022 11:28:12|\n",
      "|24/01/2022 10:58:34|\n",
      "+-------------------+\n",
      "\n"
     ]
    }
   ],
   "source": [
    "dfDates = spark.createDataFrame([(\"23/01/2022 11:28:12\",),(\"24/01/2022 10:58:34\",)], [\"date\"])\n",
    "dfDates.printSchema()\n",
    "dfDates.show()"
   ]
  },
  {
   "cell_type": "code",
   "execution_count": null,
   "metadata": {},
   "outputs": [],
   "source": [
    "# TypeError: Can not infer schema for type: <class 'str'>\n",
    "dfDates = spark.createDataFrame([\"23/01/2022 11:28:12\",\"24/01/2022 10:58:34\"], [\"date\"])\n",
    "\n",
    "# TypeError: Column is not iterable\n",
    "dfDates = dfDates.withColumnRenamed(\"date\", to_timestamp(\"date\", \"yyyy-MM-dd HH:mm:ss\"))\n",
    "\n",
    "# NameError: name 'dfDates' is not defined\n",
    "dfDates = dfDates.withColumn(\"date\", to_timestamp(\"dd/MM/yyyy HH:mm:ss\", \"date\"))\n"
   ]
  }
 ],
 "metadata": {
  "interpreter": {
   "hash": "ac6ad6cad6e86b8f8ebaedbe94ebc31d728d6c0d8223a99e9449734cfa4d7995"
  },
  "kernelspec": {
   "display_name": "Python 3.8.3 64-bit ('base': conda)",
   "name": "python3"
  },
  "language_info": {
   "codemirror_mode": {
    "name": "ipython",
    "version": 3
   },
   "file_extension": ".py",
   "mimetype": "text/x-python",
   "name": "python",
   "nbconvert_exporter": "python",
   "pygments_lexer": "ipython3",
   "version": "3.8.3"
  },
  "orig_nbformat": 4
 },
 "nbformat": 4,
 "nbformat_minor": 2
}
