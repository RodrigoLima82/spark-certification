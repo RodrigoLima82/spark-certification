{
 "cells": [
  {
   "cell_type": "markdown",
   "metadata": {},
   "source": [
    "# COALESCE() + REPARTITION()"
   ]
  },
  {
   "cell_type": "markdown",
   "metadata": {},
   "source": [
    "The above example creates 5 partitions as specified in `master(\"local[5]\")` and the data is distributed across all these 5 partitions.\n",
    "\n",
    "- `Partition 1: 0 1 2 3`\n",
    "- `Partition 2: 4 5 6 7`\n",
    "- `Partition 3: 8 9 10 11`\n",
    "- `Partition 4: 12 13 14 15`\n",
    "- `Partition 5: 16 17 18 19`"
   ]
  },
  {
   "cell_type": "code",
   "execution_count": 1,
   "metadata": {},
   "outputs": [],
   "source": [
    "import pyspark\n",
    "from pyspark.sql import SparkSession\n",
    "\n",
    "spark = (\n",
    "    SparkSession.builder\n",
    "    .appName(\"example-coalesce-repartition\")\n",
    "    .master(\"local[5]\")\n",
    "    .getOrCreate()\n",
    ")"
   ]
  },
  {
   "cell_type": "code",
   "execution_count": 2,
   "metadata": {},
   "outputs": [
    {
     "name": "stdout",
     "output_type": "stream",
     "text": [
      "5\n"
     ]
    }
   ],
   "source": [
    "df=spark.range(0,20)\n",
    "print(df.rdd.getNumPartitions())\n"
   ]
  },
  {
   "cell_type": "code",
   "execution_count": 3,
   "metadata": {},
   "outputs": [],
   "source": [
    "df.write.mode(\"overwrite\").csv(\"../files/partition/partition.csv\")"
   ]
  },
  {
   "cell_type": "markdown",
   "metadata": {},
   "source": [
    "### DataFrame repartition()\n",
    "- repartition() method is used to increase or decrease the partitions. \n",
    "- the below example increases the partitions from 5 to 6 by moving data from all partitions.\n",
    "\n",
    ">\n",
    "- `Partition 1 : 14 1 5`\n",
    "- `Partition 2 : 4 16 15`\n",
    "- `Partition 3 : 8 3 18`\n",
    "- `Partition 4 : 12 2 19`\n",
    "- `Partition 5 : 6 17 7 0`\n",
    "- `Partition 6 : 9 10 11 13`"
   ]
  },
  {
   "cell_type": "code",
   "execution_count": 4,
   "metadata": {},
   "outputs": [
    {
     "name": "stdout",
     "output_type": "stream",
     "text": [
      "6\n"
     ]
    }
   ],
   "source": [
    "df2 = df.repartition(6)\n",
    "print(df2.rdd.getNumPartitions())"
   ]
  },
  {
   "cell_type": "markdown",
   "metadata": {},
   "source": [
    "### DataFrame coalesce()\n",
    "- coalesce() is used only to `decrease` the number of partitions. \n",
    "- this is an optimized or improved version of repartition() where the movement of the data across the partitions is fewer using coalesce.\n",
    "- the below example we are reducing 5 to 2 partitions, the data movement happens only from 3 partitions and it moves to remain 2 partitions.\n",
    "\n",
    ">\n",
    "- `Partition 1 : 0 1 2 3 8 9 10 11`\n",
    "- `Partition 2 : 4 5 6 7 12 13 14 15 16 17 18 19`"
   ]
  },
  {
   "cell_type": "code",
   "execution_count": 5,
   "metadata": {},
   "outputs": [
    {
     "name": "stdout",
     "output_type": "stream",
     "text": [
      "2\n"
     ]
    }
   ],
   "source": [
    "df3 = df.coalesce(2)\n",
    "print(df3.rdd.getNumPartitions())"
   ]
  },
  {
   "cell_type": "markdown",
   "metadata": {},
   "source": [
    "### Default Shuffle Partition\n",
    "\n",
    "- Calling `groupBy()`, `union()`, `join()` and similar functions on DataFrame results in shuffling data between multiple executors and even machines and finally repartitions data into `200 partitions by default`. \n",
    "- PySpark default defines shuffling partition to 200 using `spark.sql.shuffle.partitions` configuration.\n",
    "\n"
   ]
  },
  {
   "cell_type": "code",
   "execution_count": 6,
   "metadata": {},
   "outputs": [
    {
     "name": "stdout",
     "output_type": "stream",
     "text": [
      "5\n"
     ]
    }
   ],
   "source": [
    "df4 = df.groupBy(\"id\").count()\n",
    "print(df4.rdd.getNumPartitions())"
   ]
  },
  {
   "cell_type": "markdown",
   "metadata": {},
   "source": [
    "Which of the following code blocks `reduces` a DataFrame from 12 to 6 partitions and performs a full shuffle?\n",
    ">\n",
    "- `DataFrame.repartition(12)`\n",
    "- `DataFrame.coalesce(6).shuffle()`\n",
    "- `DataFrame.coalesce(6)`\n",
    "- `DataFrame.coalesce(6, shuffle=True)`\n",
    "- `DataFrame.repartition(6)`"
   ]
  },
  {
   "cell_type": "code",
   "execution_count": null,
   "metadata": {},
   "outputs": [],
   "source": []
  }
 ],
 "metadata": {
  "interpreter": {
   "hash": "ac6ad6cad6e86b8f8ebaedbe94ebc31d728d6c0d8223a99e9449734cfa4d7995"
  },
  "kernelspec": {
   "display_name": "Python 3.8.3 64-bit ('base': conda)",
   "name": "python3"
  },
  "language_info": {
   "codemirror_mode": {
    "name": "ipython",
    "version": 3
   },
   "file_extension": ".py",
   "mimetype": "text/x-python",
   "name": "python",
   "nbconvert_exporter": "python",
   "pygments_lexer": "ipython3",
   "version": "3.8.3"
  },
  "orig_nbformat": 4
 },
 "nbformat": 4,
 "nbformat_minor": 2
}
