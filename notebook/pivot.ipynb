{
 "cells": [
  {
   "cell_type": "markdown",
   "metadata": {},
   "source": [
    "# PIVOT() + ROLLUP()"
   ]
  },
  {
   "cell_type": "code",
   "execution_count": 4,
   "metadata": {},
   "outputs": [],
   "source": [
    "from pyspark.sql import SparkSession\n",
    "from pyspark.sql.functions import *\n",
    "\n",
    "spark = (\n",
    "    SparkSession.builder\n",
    "    .appName(\"example-pivot-rollup\")\n",
    "    .getOrCreate()\n",
    ")"
   ]
  },
  {
   "cell_type": "code",
   "execution_count": 5,
   "metadata": {},
   "outputs": [],
   "source": [
    "data = [('X1','2021','Scala',270),\n",
    "        ('Y5','2021','Scala',230),\n",
    "        ('N3','2020','Scala',150),\n",
    "        ('C5','2020','Scala',100),\n",
    "        ('D7','2020','Python',300),\n",
    "        ('D3','2021','Python',400),\n",
    "        ('H2','2021','Python',500)]\n",
    "\n",
    "columns = [\"BatchID\", \"Year\", \"CourseName\", \"Students\"]\n",
    "\n",
    "df = spark.createDataFrame(data=data, schema = columns)"
   ]
  },
  {
   "cell_type": "code",
   "execution_count": 3,
   "metadata": {},
   "outputs": [
    {
     "name": "stdout",
     "output_type": "stream",
     "text": [
      "+----+------+-----+\n",
      "|Year|Python|Scala|\n",
      "+----+------+-----+\n",
      "|2020|   300|  250|\n",
      "|2021|   900|  500|\n",
      "+----+------+-----+\n",
      "\n"
     ]
    }
   ],
   "source": [
    "df.groupBy(\"Year\").pivot(\"CourseName\").agg(expr(\"sum(Students)\")).show()"
   ]
  },
  {
   "cell_type": "code",
   "execution_count": 8,
   "metadata": {},
   "outputs": [
    {
     "name": "stdout",
     "output_type": "stream",
     "text": [
      "+----+----------+-------------+\n",
      "|Year|CourseName|TotalStudents|\n",
      "+----+----------+-------------+\n",
      "|null|      null|         1950|\n",
      "|2020|      null|          550|\n",
      "|2020|    Python|          300|\n",
      "|2020|     Scala|          250|\n",
      "|2021|      null|         1400|\n",
      "|2021|    Python|          900|\n",
      "|2021|     Scala|          500|\n",
      "+----+----------+-------------+\n",
      "\n"
     ]
    }
   ],
   "source": [
    "df.rollup(\"Year\", \"CourseName\") \\\n",
    "    .agg(expr(\"sum(Students)\") \\\n",
    "    .alias(\"TotalStudents\")) \\\n",
    "    .orderBy(\"Year\", \"CourseName\") \\\n",
    "    .show()"
   ]
  },
  {
   "cell_type": "code",
   "execution_count": null,
   "metadata": {},
   "outputs": [],
   "source": []
  }
 ],
 "metadata": {
  "interpreter": {
   "hash": "ac6ad6cad6e86b8f8ebaedbe94ebc31d728d6c0d8223a99e9449734cfa4d7995"
  },
  "kernelspec": {
   "display_name": "Python 3.8.3 64-bit ('base': conda)",
   "name": "python3"
  },
  "language_info": {
   "codemirror_mode": {
    "name": "ipython",
    "version": 3
   },
   "file_extension": ".py",
   "mimetype": "text/x-python",
   "name": "python",
   "nbconvert_exporter": "python",
   "pygments_lexer": "ipython3",
   "version": "3.8.3"
  },
  "orig_nbformat": 4
 },
 "nbformat": 4,
 "nbformat_minor": 2
}
