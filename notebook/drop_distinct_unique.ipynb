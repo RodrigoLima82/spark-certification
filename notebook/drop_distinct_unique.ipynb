{
 "cells": [
  {
   "cell_type": "markdown",
   "metadata": {},
   "source": [
    "# DROP() + DISTINCT() + UNIQUE()"
   ]
  },
  {
   "cell_type": "code",
   "execution_count": 1,
   "metadata": {},
   "outputs": [],
   "source": [
    "import pyspark\n",
    "from pyspark.sql import SparkSession\n",
    "from pyspark.sql.functions import *\n",
    "from pyspark.sql.types import *\n",
    "\n",
    "spark = (\n",
    "    SparkSession.builder\n",
    "    .appName(\"example-drop-distinct-unique\")\n",
    "    .getOrCreate()\n",
    ")"
   ]
  },
  {
   "cell_type": "code",
   "execution_count": 2,
   "metadata": {},
   "outputs": [
    {
     "name": "stdout",
     "output_type": "stream",
     "text": [
      "root\n",
      " |-- employee_name: string (nullable = true)\n",
      " |-- department: string (nullable = true)\n",
      " |-- salary: long (nullable = true)\n",
      "\n",
      "+-------------+----------+------+\n",
      "|employee_name|department|salary|\n",
      "+-------------+----------+------+\n",
      "|James        |Sales     |3000  |\n",
      "|Michael      |Sales     |4600  |\n",
      "|Robert       |Sales     |4100  |\n",
      "|Maria        |Finance   |3000  |\n",
      "|James        |Sales     |3000  |\n",
      "|Scott        |Finance   |3300  |\n",
      "|Jen          |Finance   |3900  |\n",
      "|Jeff         |Marketing |3000  |\n",
      "|Kumar        |Marketing |2000  |\n",
      "|Saif         |Sales     |4100  |\n",
      "+-------------+----------+------+\n",
      "\n"
     ]
    }
   ],
   "source": [
    "\n",
    "data = [(\"James\", \"Sales\", 3000), \\\n",
    "        (\"Michael\", \"Sales\", 4600), \\\n",
    "        (\"Robert\", \"Sales\", 4100), \\\n",
    "        (\"Maria\", \"Finance\", 3000), \\\n",
    "        (\"James\", \"Sales\", 3000), \\\n",
    "        (\"Scott\", \"Finance\", 3300), \\\n",
    "        (\"Jen\", \"Finance\", 3900), \\\n",
    "        (\"Jeff\", \"Marketing\", 3000), \\\n",
    "        (\"Kumar\", \"Marketing\", 2000), \\\n",
    "        (\"Saif\", \"Sales\", 4100)]\n",
    "\n",
    "columns= [\"employee_name\", \"department\", \"salary\"]\n",
    "\n",
    "df = spark.createDataFrame(data = data, schema = columns)\n",
    "\n",
    "df.printSchema()\n",
    "df.show(truncate=False)\n"
   ]
  },
  {
   "cell_type": "code",
   "execution_count": null,
   "metadata": {},
   "outputs": [],
   "source": [
    "# Get Distinct Rows (By Comparing All Columns)\n",
    "\n",
    "distinctDF = df.distinct()\n",
    "print(\"Distinct count: \"+str(distinctDF.count()))\n",
    "distinctDF.show(truncate=False)\n"
   ]
  },
  {
   "cell_type": "code",
   "execution_count": null,
   "metadata": {},
   "outputs": [],
   "source": [
    "# you can also run dropDuplicates() function which returns a new DataFrame after removing duplicate rows\n",
    "df2 = df.dropDuplicates()\n",
    "print(\"Distinct count: \"+str(df2.count()))\n",
    "df2.show(truncate=False)"
   ]
  },
  {
   "cell_type": "code",
   "execution_count": null,
   "metadata": {},
   "outputs": [],
   "source": [
    "# PySpark Distinct of Selected Multiple Columns\n",
    "\n",
    "dropDisDF = df.dropDuplicates([\"department\",\"salary\"])\n",
    "print(\"Distinct count of department & salary : \"+str(dropDisDF.count()))\n",
    "dropDisDF.show(truncate=False)\n"
   ]
  },
  {
   "cell_type": "markdown",
   "metadata": {},
   "source": [
    "Which of the following code blocks returns only rows from DataFrame transactionsDf in which values in column productId are unique?"
   ]
  },
  {
   "cell_type": "code",
   "execution_count": 3,
   "metadata": {},
   "outputs": [
    {
     "name": "stdout",
     "output_type": "stream",
     "text": [
      "+-------------+---------+-----+-------+---------+----+---------------+\n",
      "|transactionId|predError|value|storeId|productId|   f|transactionDate|\n",
      "+-------------+---------+-----+-------+---------+----+---------------+\n",
      "|            1|        3|    4|     25|        1|null|     1587915332|\n",
      "|            2|        6|    7|      2|        2|null|     1586815312|\n",
      "|            3|        3| null|     25|        3|null|     1585824821|\n",
      "|            4|     null| null|      3|        2|null|     1583244275|\n",
      "|            5|     null| null|   null|        2|null|     1575285427|\n",
      "|            6|        3|    2|     25|        2|null|     1572733275|\n",
      "+-------------+---------+-----+-------+---------+----+---------------+\n",
      "\n"
     ]
    }
   ],
   "source": [
    "data = [(1, 3, 4, 25, 1, None, 1587915332),\n",
    "         (2, 6, 7, 2, 2, None, 1586815312),\n",
    "         (3, 3, None, 25, 3, None, 1585824821),\n",
    "         (4, None, None, 3, 2, None, 1583244275),\n",
    "         (5, None, None, None, 2, None, 1575285427),\n",
    "         (6, 3, 2, 25, 2, None, 1572733275)]\n",
    "\n",
    "schema = StructType([StructField('transactionId', IntegerType(), True),\n",
    "                     StructField('predError', IntegerType(), True),\n",
    "                     StructField('value', IntegerType(), True),\n",
    "                     StructField('storeId', IntegerType(), True),\n",
    "                     StructField('productId', IntegerType(), True),\n",
    "                     StructField('f', IntegerType(), True),\n",
    "                     StructField('transactionDate', LongType(), True)])\n",
    "\n",
    "transactionsDf = spark.createDataFrame(data=data, schema=schema)\n",
    "transactionsDf.show()"
   ]
  },
  {
   "cell_type": "code",
   "execution_count": null,
   "metadata": {},
   "outputs": [],
   "source": [
    "transactionsDf.dropDuplicates(subset=[\"productId\"]).show()"
   ]
  },
  {
   "cell_type": "markdown",
   "metadata": {},
   "source": [
    "Which of the following code blocks returns a DataFrame where columns predError and productId are removed from DataFrame transactionsDf?\n",
    ">\n",
    "Sample of DataFrame transactionsDf:\n",
    ">\n",
    "- `+————-+———+—–+——-+———+—-+`\n",
    "- `|transactionId|predError|value|storeId|productId|f |`\n",
    "- `+————-+———+—–+——-+———+—-+`\n",
    "- `|1 |3 |4 |25 |1 |null|`\n",
    "- `|2 |6 |7 |2 |2 |null|`\n",
    "- `|3 |3 |null |25 |3 |null|`\n",
    "- `+————-+———+—–+——-+———+—-+`\n",
    ">\n",
    "- `transactionsDf.withColumnRemoved(\"predError\", \"productId\")`\n",
    "- `transactionsDf.drop([\"predError\", \"productId\", \"associateId\"])`\n",
    "- `transactionsDf.drop(\"predError\", \"productId\", \"associateId\")`\n",
    "- `transactionsDf.dropColumns(\"predError\", \"productId\", \"associateId\")`\n",
    "- `transactionsDf.drop(col(\"predError\", \"productId\"))`"
   ]
  },
  {
   "cell_type": "code",
   "execution_count": null,
   "metadata": {},
   "outputs": [],
   "source": [
    "transactionsDf.drop(\"predError\", \"productId\", \"associateId\").show()"
   ]
  },
  {
   "cell_type": "code",
   "execution_count": null,
   "metadata": {},
   "outputs": [],
   "source": [
    "# TypeError: col should be a string or a Column\n",
    "transactionsDf.drop([\"predError\", \"productId\", \"associateId\"])\n",
    "\n",
    "# AttributeError: 'DataFrame' object has no attribute 'dropColumns'\n",
    "transactionsDf.dropColumns(\"predError\", \"productId\", \"associateId\")    \n",
    "\n",
    "# TypeError: _() takes 1 positional argument but 2 were given\n",
    "transactionsDf.drop(col(\"predError\", \"productId\"))"
   ]
  },
  {
   "cell_type": "code",
   "execution_count": 10,
   "metadata": {},
   "outputs": [
    {
     "name": "stdout",
     "output_type": "stream",
     "text": [
      "+-------+\n",
      "|storeId|\n",
      "+-------+\n",
      "|   null|\n",
      "|      3|\n",
      "|     25|\n",
      "|      2|\n",
      "+-------+\n",
      "\n"
     ]
    }
   ],
   "source": [
    "transactionsDf.select(\"storeId\").distinct().show()"
   ]
  },
  {
   "cell_type": "code",
   "execution_count": 4,
   "metadata": {},
   "outputs": [
    {
     "ename": "TypeError",
     "evalue": "'Column' object is not callable",
     "output_type": "error",
     "traceback": [
      "\u001b[0;31m---------------------------------------------------------------------------\u001b[0m",
      "\u001b[0;31mTypeError\u001b[0m                                 Traceback (most recent call last)",
      "\u001b[0;32m<ipython-input-4-166e4613a7b1>\u001b[0m in \u001b[0;36m<module>\u001b[0;34m\u001b[0m\n\u001b[0;32m----> 1\u001b[0;31m \u001b[0mtransactionsDf\u001b[0m\u001b[0;34m[\u001b[0m\u001b[0;34m\"storeId\"\u001b[0m\u001b[0;34m]\u001b[0m\u001b[0;34m.\u001b[0m\u001b[0mdistinct\u001b[0m\u001b[0;34m(\u001b[0m\u001b[0;34m)\u001b[0m\u001b[0;34m\u001b[0m\u001b[0;34m\u001b[0m\u001b[0m\n\u001b[0m",
      "\u001b[0;31mTypeError\u001b[0m: 'Column' object is not callable"
     ]
    }
   ],
   "source": [
    "# TypeError: 'Column' object is not callable\n",
    "transactionsDf[\"storeId\"].distinct()\n",
    "\n",
    "# AnalysisException: filter expression '`storeId`' of type int is not a boolean\n",
    "transactionsDf.filter(\"storeId\").distinct()\n",
    "\n",
    "# TypeError: 'Column' object is not callable\n",
    "transactionsDf.select(col(\"storeId\").distinct())\n",
    "\n",
    "# TypeError: distinct() takes 1 positional argument but 2 were given\n",
    "transactionsDf.distinct(\"storeId\")"
   ]
  }
 ],
 "metadata": {
  "interpreter": {
   "hash": "ac6ad6cad6e86b8f8ebaedbe94ebc31d728d6c0d8223a99e9449734cfa4d7995"
  },
  "kernelspec": {
   "display_name": "Python 3.8.3 64-bit ('base': conda)",
   "name": "python3"
  },
  "language_info": {
   "codemirror_mode": {
    "name": "ipython",
    "version": 3
   },
   "file_extension": ".py",
   "mimetype": "text/x-python",
   "name": "python",
   "nbconvert_exporter": "python",
   "pygments_lexer": "ipython3",
   "version": "3.8.3"
  },
  "orig_nbformat": 4
 },
 "nbformat": 4,
 "nbformat_minor": 2
}
