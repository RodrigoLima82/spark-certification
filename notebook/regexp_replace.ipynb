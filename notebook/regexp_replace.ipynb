{
 "cells": [
  {
   "cell_type": "markdown",
   "metadata": {},
   "source": [
    "# REGEXP_REPLACE()"
   ]
  },
  {
   "cell_type": "code",
   "execution_count": 5,
   "metadata": {},
   "outputs": [],
   "source": [
    "from pyspark.sql import SparkSession\n",
    "from pyspark.sql.functions import *\n",
    "spark = (\n",
    "    SparkSession.builder\n",
    "    .appName(\"example-regexp_replace\")\n",
    "    .getOrCreate()\n",
    ")"
   ]
  },
  {
   "cell_type": "markdown",
   "metadata": {},
   "source": [
    "You are given the following DataFrame.\n",
    ">\n",
    "- `+———–+`\n",
    "- `|Description|`\n",
    "- `+———–+`\n",
    "- `|White Tiger|`\n",
    "- `|Red rose |`\n",
    "- `|Blue Pearl |`\n",
    "- `+———–+`\n",
    ">\n",
    "And you have the following code block.\n",
    ">\n",
    "- `df.select(regexp_replace(col(“Description”),“White|Red|Blue”, “Color”).alias(“color_clean”)).show()`\n",
    ">\n",
    "Select the correct output."
   ]
  },
  {
   "cell_type": "code",
   "execution_count": 3,
   "metadata": {},
   "outputs": [
    {
     "name": "stdout",
     "output_type": "stream",
     "text": [
      "+-----------+\n",
      "|Description|\n",
      "+-----------+\n",
      "|White Tiger|\n",
      "|   Red rose|\n",
      "| Blue Pearl|\n",
      "+-----------+\n",
      "\n"
     ]
    }
   ],
   "source": [
    "df = spark.createDataFrame([('White Tiger',), ('Red rose',), ('Blue Pearl',)], ['Description'])\n",
    "df.show()"
   ]
  },
  {
   "cell_type": "code",
   "execution_count": 6,
   "metadata": {},
   "outputs": [
    {
     "name": "stdout",
     "output_type": "stream",
     "text": [
      "+-----------+\n",
      "|color_clean|\n",
      "+-----------+\n",
      "|Color Tiger|\n",
      "| Color rose|\n",
      "|Color Pearl|\n",
      "+-----------+\n",
      "\n"
     ]
    }
   ],
   "source": [
    "df.select(regexp_replace(col(\"Description\"),\"White|Red|Blue\", \"Color\").alias(\"color_clean\")).show()"
   ]
  },
  {
   "cell_type": "code",
   "execution_count": null,
   "metadata": {},
   "outputs": [],
   "source": []
  }
 ],
 "metadata": {
  "interpreter": {
   "hash": "ac6ad6cad6e86b8f8ebaedbe94ebc31d728d6c0d8223a99e9449734cfa4d7995"
  },
  "kernelspec": {
   "display_name": "Python 3.8.3 64-bit ('base': conda)",
   "name": "python3"
  },
  "language_info": {
   "codemirror_mode": {
    "name": "ipython",
    "version": 3
   },
   "file_extension": ".py",
   "mimetype": "text/x-python",
   "name": "python",
   "nbconvert_exporter": "python",
   "pygments_lexer": "ipython3",
   "version": "3.8.3"
  },
  "orig_nbformat": 4
 },
 "nbformat": 4,
 "nbformat_minor": 2
}
