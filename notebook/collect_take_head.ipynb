{
 "cells": [
  {
   "cell_type": "markdown",
   "metadata": {},
   "source": [
    "# COLLECT() + TAKE(n) + HEAD(n) + toLocalIterador() "
   ]
  },
  {
   "cell_type": "code",
   "execution_count": 1,
   "metadata": {},
   "outputs": [],
   "source": [
    "import pyspark\n",
    "from pyspark.sql import SparkSession\n",
    "from pyspark.sql.functions import col\n",
    "\n",
    "spark = (\n",
    "    SparkSession.builder\n",
    "    .appName(\"example-02\")\n",
    "    .getOrCreate()\n",
    ")"
   ]
  },
  {
   "cell_type": "code",
   "execution_count": 2,
   "metadata": {},
   "outputs": [
    {
     "name": "stdout",
     "output_type": "stream",
     "text": [
      "+---------+-------+\n",
      "|dept_name|dept_id|\n",
      "+---------+-------+\n",
      "|Finance  |10     |\n",
      "|Marketing|20     |\n",
      "|Sales    |30     |\n",
      "|IT       |40     |\n",
      "|X        |40     |\n",
      "|Y        |40     |\n",
      "|Z        |40     |\n",
      "+---------+-------+\n",
      "\n"
     ]
    }
   ],
   "source": [
    "\n",
    "dept = [(\"Finance\",10), (\"Marketing\",20), (\"Sales\",30), (\"IT\",40), (\"X\",40), (\"Y\",40), (\"Z\",40)]\n",
    "deptColumns = [\"dept_name\", \"dept_id\"]\n",
    "\n",
    "deptDF = spark.createDataFrame(data=dept, schema = deptColumns)\n",
    "deptDF.show(truncate=False)"
   ]
  },
  {
   "cell_type": "code",
   "execution_count": 3,
   "metadata": {},
   "outputs": [
    {
     "name": "stdout",
     "output_type": "stream",
     "text": [
      "[Row(dept_name='IT', dept_id=40), Row(dept_name='X', dept_id=40), Row(dept_name='Y', dept_id=40), Row(dept_name='Z', dept_id=40)]\n"
     ]
    }
   ],
   "source": [
    "# Com o collect() nao é possível passar o parametro da quantidade a ser retornada: collect(2) nao funciona\n",
    "dataCollect = deptDF.filter(col(\"dept_id\")==40).collect()\n",
    "print(dataCollect)"
   ]
  },
  {
   "cell_type": "code",
   "execution_count": 4,
   "metadata": {},
   "outputs": [
    {
     "name": "stdout",
     "output_type": "stream",
     "text": [
      "[Row(dept_name='IT', dept_id=40), Row(dept_name='X', dept_id=40)]\n"
     ]
    }
   ],
   "source": [
    "# Com o take() é possível retornar uma lista com a quantidade de itens exata: take(2)\n",
    "dataTake = deptDF.filter(col(\"dept_id\")==40).take(2)\n",
    "\n",
    "print(dataTake)"
   ]
  },
  {
   "cell_type": "code",
   "execution_count": 5,
   "metadata": {},
   "outputs": [
    {
     "name": "stdout",
     "output_type": "stream",
     "text": [
      "[Row(dept_name='IT', dept_id=40), Row(dept_name='X', dept_id=40)]\n"
     ]
    }
   ],
   "source": [
    "# Com o head() é possível retornar uma lista com a quantidade de itens exata: head(2)\n",
    "dataHead = deptDF.filter(col(\"dept_id\")==40).head(2)\n",
    "\n",
    "print(dataHead)"
   ]
  },
  {
   "cell_type": "code",
   "execution_count": 6,
   "metadata": {},
   "outputs": [
    {
     "name": "stdout",
     "output_type": "stream",
     "text": [
      "[Row(dept_name='IT', dept_id=40), Row(dept_name='X', dept_id=40), Row(dept_name='Y', dept_id=40), Row(dept_name='Z', dept_id=40)]\n"
     ]
    }
   ],
   "source": [
    "# Com o toLocalIterator() nao é possível passar o parametro da quantidade a ser retornada: toLocalIterator(2) nao funciona\n",
    "dataIterator = list(deptDF.filter(col(\"dept_id\")==40).toLocalIterator())\n",
    "\n",
    "print(dataIterator)"
   ]
  },
  {
   "cell_type": "code",
   "execution_count": null,
   "metadata": {},
   "outputs": [],
   "source": []
  }
 ],
 "metadata": {
  "interpreter": {
   "hash": "ac6ad6cad6e86b8f8ebaedbe94ebc31d728d6c0d8223a99e9449734cfa4d7995"
  },
  "kernelspec": {
   "display_name": "Python 3.8.3 64-bit ('base': conda)",
   "name": "python3"
  },
  "language_info": {
   "codemirror_mode": {
    "name": "ipython",
    "version": 3
   },
   "file_extension": ".py",
   "mimetype": "text/x-python",
   "name": "python",
   "nbconvert_exporter": "python",
   "pygments_lexer": "ipython3",
   "version": "3.8.3"
  },
  "orig_nbformat": 4
 },
 "nbformat": 4,
 "nbformat_minor": 2
}
