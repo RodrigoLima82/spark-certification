{
 "cells": [
  {
   "cell_type": "markdown",
   "metadata": {},
   "source": [
    "# GROUPBY()"
   ]
  },
  {
   "cell_type": "code",
   "execution_count": 4,
   "metadata": {},
   "outputs": [],
   "source": [
    "from pyspark.sql import SparkSession\n",
    "from pyspark.sql.functions import *\n",
    "\n",
    "spark = (\n",
    "    SparkSession.builder\n",
    "    .appName(\"example-groupby\")\n",
    "    .getOrCreate()\n",
    ")"
   ]
  },
  {
   "cell_type": "code",
   "execution_count": 2,
   "metadata": {},
   "outputs": [],
   "source": [
    "data_list = [(\"David\", \"Account\", \"United States\", \"6500\"),\n",
    "             (\"Ravi\", \"Account\", \"India\", \"5500\"),\n",
    "             (\"John\", \"Software\", \"India\", \"6500\"),\n",
    "             (\"Rosy\", \"Software\", \"India\", \"8200\"),\n",
    "             (\"Abdul\", \"Support\", \"Brazil\", \"4800\")]\n",
    " \n",
    "df = spark.createDataFrame(data_list).toDF(\"name\", \"department\", \"country\", \"salary\")\n"
   ]
  },
  {
   "cell_type": "code",
   "execution_count": 5,
   "metadata": {},
   "outputs": [
    {
     "name": "stdout",
     "output_type": "stream",
     "text": [
      "+----------+-------------+-----------+-----------+\n",
      "|department|      country|NumEmployee|TotalSalary|\n",
      "+----------+-------------+-----------+-----------+\n",
      "|   Account|        India|          1|     5500.0|\n",
      "|   Support|       Brazil|          1|     4800.0|\n",
      "|   Account|United States|          1|     6500.0|\n",
      "|  Software|        India|          2|    14700.0|\n",
      "+----------+-------------+-----------+-----------+\n",
      "\n"
     ]
    }
   ],
   "source": [
    "df.groupBy(\"department\", \"country\") \\\n",
    "  .agg(expr(\"count(*) as NumEmployee\"), expr(\"sum(salary) as TotalSalary\")) \\\n",
    "  .show()"
   ]
  },
  {
   "cell_type": "code",
   "execution_count": null,
   "metadata": {},
   "outputs": [],
   "source": []
  }
 ],
 "metadata": {
  "interpreter": {
   "hash": "ac6ad6cad6e86b8f8ebaedbe94ebc31d728d6c0d8223a99e9449734cfa4d7995"
  },
  "kernelspec": {
   "display_name": "Python 3.8.3 64-bit ('base': conda)",
   "name": "python3"
  },
  "language_info": {
   "codemirror_mode": {
    "name": "ipython",
    "version": 3
   },
   "file_extension": ".py",
   "mimetype": "text/x-python",
   "name": "python",
   "nbconvert_exporter": "python",
   "pygments_lexer": "ipython3",
   "version": "3.8.3"
  },
  "orig_nbformat": 4
 },
 "nbformat": 4,
 "nbformat_minor": 2
}
