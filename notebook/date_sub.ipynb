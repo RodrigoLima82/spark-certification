{
 "cells": [
  {
   "cell_type": "markdown",
   "metadata": {},
   "source": [
    "# DATE_SUB()"
   ]
  },
  {
   "cell_type": "code",
   "execution_count": 16,
   "metadata": {},
   "outputs": [],
   "source": [
    "from pyspark.sql import SparkSession\n",
    "from pyspark.sql.functions import *\n",
    "\n",
    "spark = (\n",
    "    SparkSession.builder\n",
    "    .appName(\"example-date_sub\")\n",
    "    .getOrCreate()\n",
    ")\n"
   ]
  },
  {
   "cell_type": "code",
   "execution_count": 17,
   "metadata": {},
   "outputs": [],
   "source": [
    "data = [('James','','Smith','1991-04-01','M',3000),\n",
    "        ('Michael','Rose','','2000-05-19','M',4000),\n",
    "        ('Robert','','Williams','1978-09-05','M',4000),\n",
    "        ('Maria','Anne','Jones','1967-12-01','F',4000),\n",
    "        ('Jen','Mary','Brown','1980-02-17','F',-1)]\n",
    "\n",
    "columns = [\"firstname\", \"middlename\", \"lastname\", \"dob\", \"gender\", \"salary\"]\n",
    "\n",
    "df = spark.createDataFrame(data=data, schema = columns)"
   ]
  },
  {
   "cell_type": "code",
   "execution_count": 18,
   "metadata": {},
   "outputs": [
    {
     "name": "stdout",
     "output_type": "stream",
     "text": [
      "+---------+----------+--------+----------+------+------+----------+\n",
      "|firstname|middlename|lastname|       dob|gender|salary|  week_ago|\n",
      "+---------+----------+--------+----------+------+------+----------+\n",
      "|    James|          |   Smith|1991-04-01|     M|  3000|1991-03-25|\n",
      "|  Michael|      Rose|        |2000-05-19|     M|  4000|2000-05-12|\n",
      "|   Robert|          |Williams|1978-09-05|     M|  4000|1978-08-29|\n",
      "|    Maria|      Anne|   Jones|1967-12-01|     F|  4000|1967-11-24|\n",
      "|      Jen|      Mary|   Brown|1980-02-17|     F|    -1|1980-02-10|\n",
      "+---------+----------+--------+----------+------+------+----------+\n",
      "\n"
     ]
    }
   ],
   "source": [
    "df.withColumn(\"week_ago\", date_sub(col(\"dob\"), 7)).show()"
   ]
  },
  {
   "cell_type": "code",
   "execution_count": 14,
   "metadata": {},
   "outputs": [
    {
     "name": "stdout",
     "output_type": "stream",
     "text": [
      "+---------+----------+--------+----------+------+------+--------+\n",
      "|firstname|middlename|lastname|       dob|gender|salary|week_ago|\n",
      "+---------+----------+--------+----------+------+------+--------+\n",
      "|    James|          |   Smith|1991-04-01|     M|  3000|    null|\n",
      "|  Michael|      Rose|        |2000-05-19|     M|  4000|    null|\n",
      "|   Robert|          |Williams|1978-09-05|     M|  4000|    null|\n",
      "|    Maria|      Anne|   Jones|1967-12-01|     F|  4000|    null|\n",
      "|      Jen|      Mary|   Brown|1980-02-17|     F|    -1|    null|\n",
      "+---------+----------+--------+----------+------+------+--------+\n",
      "\n"
     ]
    }
   ],
   "source": [
    "df.withColumn(\"week_ago\", col(\"dob\") - 7).show()"
   ]
  },
  {
   "cell_type": "code",
   "execution_count": 15,
   "metadata": {},
   "outputs": [
    {
     "name": "stdout",
     "output_type": "stream",
     "text": [
      "+---------+----------+--------+----------+------+------+--------+\n",
      "|firstname|middlename|lastname|       dob|gender|salary|week_ago|\n",
      "+---------+----------+--------+----------+------+------+--------+\n",
      "|    James|          |   Smith|1991-04-01|     M|  3000|    null|\n",
      "|  Michael|      Rose|        |2000-05-19|     M|  4000|    null|\n",
      "|   Robert|          |Williams|1978-09-05|     M|  4000|    null|\n",
      "|    Maria|      Anne|   Jones|1967-12-01|     F|  4000|    null|\n",
      "|      Jen|      Mary|   Brown|1980-02-17|     F|    -1|    null|\n",
      "+---------+----------+--------+----------+------+------+--------+\n",
      "\n"
     ]
    }
   ],
   "source": [
    "df.withColumn(\"week_ago\", expr(\"dob - 7\")).show()"
   ]
  }
 ],
 "metadata": {
  "interpreter": {
   "hash": "ac6ad6cad6e86b8f8ebaedbe94ebc31d728d6c0d8223a99e9449734cfa4d7995"
  },
  "kernelspec": {
   "display_name": "Python 3.8.3 64-bit ('base': conda)",
   "name": "python3"
  },
  "language_info": {
   "codemirror_mode": {
    "name": "ipython",
    "version": 3
   },
   "file_extension": ".py",
   "mimetype": "text/x-python",
   "name": "python",
   "nbconvert_exporter": "python",
   "pygments_lexer": "ipython3",
   "version": "3.8.3"
  },
  "orig_nbformat": 4
 },
 "nbformat": 4,
 "nbformat_minor": 2
}
