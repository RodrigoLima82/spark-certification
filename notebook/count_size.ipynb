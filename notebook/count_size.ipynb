{
 "cells": [
  {
   "cell_type": "markdown",
   "metadata": {},
   "source": [
    "# COUNT() + SIZE()"
   ]
  },
  {
   "cell_type": "code",
   "execution_count": 4,
   "metadata": {},
   "outputs": [],
   "source": [
    "import pyspark\n",
    "from pyspark.sql import SparkSession\n",
    "from pyspark.sql.functions import *\n",
    "from pyspark.sql.types import *\n",
    "\n",
    "spark = (\n",
    "    SparkSession.builder\n",
    "    .appName(\"example-count-size\")\n",
    "    .getOrCreate()\n",
    ")"
   ]
  },
  {
   "cell_type": "markdown",
   "metadata": {},
   "source": [
    "The code block shown below should return all rows of DataFrame itemsDf that have at least 3 items in column itemNameElements. Choose the answer that correctly fills the blanks in the code block to accomplish this.\n",
    ">\n",
    "Example of DataFrame itemsDf:\n",
    ">\n",
    "- `+——+———————————-+——————-+——————————————+`\n",
    "- `|itemId|itemName |supplier |itemNameElements |`\n",
    "- `+——+———————————-+——————-+——————————————+`\n",
    "- `|1 |Thick Coat for Walking in the Snow|Sports Company Inc.|[Thick, Coat, for, Walking, in, the, Snow]|`\n",
    "- `|2 |Elegant Outdoors Summer Dress |YetiX |[Elegant, Outdoors, Summer, Dress] |`\n",
    "- `|3 |Outdoors Backpack |Sports Company Inc.|[Outdoors, Backpack] |`\n",
    "- `+——+———————————-+——————-+——————————————+`\n",
    ">\n",
    "Code block:\n",
    "- `itemsDf.__1__(__2__(__3__)__4__)`\n",
    "\n",
    ">\n",
    "- `1. select 2. count 3. col(\"itemNameElements\") 4. >3`\n",
    "- `1. filter 2. count 3. itemNameElements 4. >=3`\n",
    "- `1. select 2. count 3. \"itemNameElements\" 4. >3`\n",
    "- `1. filter 2. size 3. \"itemNameElements\" 4. >=3`\n",
    "- `1. select 2. size 3. \"itemNameElements\" 4. >3`"
   ]
  },
  {
   "cell_type": "code",
   "execution_count": 12,
   "metadata": {},
   "outputs": [
    {
     "name": "stdout",
     "output_type": "stream",
     "text": [
      "+------+--------------------+-------------------+--------------------+\n",
      "|itemId|            itemName|           supplier|    itemNameElements|\n",
      "+------+--------------------+-------------------+--------------------+\n",
      "|     1|Thick Coat for Wa...|Sports Company Inc.|[Thick, Coat, for...|\n",
      "|     2|Elegant Outdoors ...|              YetiX|[Elegant, Outdoor...|\n",
      "|     3|   Outdoors Backpack|Sports Company Inc.|[Outdoors, Backpack]|\n",
      "+------+--------------------+-------------------+--------------------+\n",
      "\n"
     ]
    }
   ],
   "source": [
    "data = [(1, 'Thick Coat for Walking in the Snow', 'Sports Company Inc.'),\n",
    "        (2, 'Elegant Outdoors Summer Dress', 'YetiX'),\n",
    "        (3, 'Outdoors Backpack', 'Sports Company Inc.')]\n",
    "\n",
    "columns = [\"itemId\", \"itemName\", \"supplier\"]\n",
    "\n",
    "itemsDf = spark.createDataFrame(data=data, schema = columns)\n",
    "\n",
    "itemsDf = itemsDf.withColumn(\"itemNameElements\", split(\"itemName\", \" \"))\n",
    "\n",
    "itemsDf.show()"
   ]
  },
  {
   "cell_type": "code",
   "execution_count": 16,
   "metadata": {},
   "outputs": [
    {
     "name": "stdout",
     "output_type": "stream",
     "text": [
      "+------+--------------------+-------------------+--------------------+\n",
      "|itemId|            itemName|           supplier|    itemNameElements|\n",
      "+------+--------------------+-------------------+--------------------+\n",
      "|     1|Thick Coat for Wa...|Sports Company Inc.|[Thick, Coat, for...|\n",
      "|     2|Elegant Outdoors ...|              YetiX|[Elegant, Outdoor...|\n",
      "+------+--------------------+-------------------+--------------------+\n",
      "\n"
     ]
    }
   ],
   "source": [
    "itemsDf.filter(size(\"itemNameElements\") >= 3).show()"
   ]
  },
  {
   "cell_type": "code",
   "execution_count": null,
   "metadata": {},
   "outputs": [],
   "source": []
  }
 ],
 "metadata": {
  "interpreter": {
   "hash": "ac6ad6cad6e86b8f8ebaedbe94ebc31d728d6c0d8223a99e9449734cfa4d7995"
  },
  "kernelspec": {
   "display_name": "Python 3.8.3 64-bit ('base': conda)",
   "name": "python3"
  },
  "language_info": {
   "codemirror_mode": {
    "name": "ipython",
    "version": 3
   },
   "file_extension": ".py",
   "mimetype": "text/x-python",
   "name": "python",
   "nbconvert_exporter": "python",
   "pygments_lexer": "ipython3",
   "version": "3.8.3"
  },
  "orig_nbformat": 4
 },
 "nbformat": 4,
 "nbformat_minor": 2
}
