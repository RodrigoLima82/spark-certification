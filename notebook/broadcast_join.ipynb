{
 "cells": [
  {
   "cell_type": "markdown",
   "metadata": {},
   "source": [
    "# BROADCAST()"
   ]
  },
  {
   "cell_type": "code",
   "execution_count": 1,
   "metadata": {},
   "outputs": [],
   "source": [
    "import pyspark\n",
    "from pyspark.sql import SparkSession\n",
    "\n",
    "spark = (\n",
    "    SparkSession.builder\n",
    "    .appName(\"example-broadcast\")\n",
    "    .getOrCreate()\n",
    ")"
   ]
  },
  {
   "cell_type": "code",
   "execution_count": 2,
   "metadata": {},
   "outputs": [],
   "source": [
    "df1 = spark.createDataFrame([(1, \"A\"), (2, \"B\"), (3, \"C\")], [\"A1\", \"A2\"])\n",
    "df2 = spark.createDataFrame([(1, \"F\"), (2, \"B\")], [\"B1\", \"B2\"])"
   ]
  },
  {
   "cell_type": "code",
   "execution_count": 15,
   "metadata": {},
   "outputs": [
    {
     "name": "stdout",
     "output_type": "stream",
     "text": [
      "+---+---+---+---+\n",
      "| A1| A2| B1| B2|\n",
      "+---+---+---+---+\n",
      "|  1|  A|  1|  F|\n",
      "|  2|  B|  2|  B|\n",
      "+---+---+---+---+\n",
      "\n",
      "+---+---+---+---+\n",
      "| A1| A2| B1| B2|\n",
      "+---+---+---+---+\n",
      "|  1|  A|  1|  F|\n",
      "|  2|  B|  2|  B|\n",
      "+---+---+---+---+\n",
      "\n"
     ]
    }
   ],
   "source": [
    "from pyspark.sql.functions import broadcast\n",
    "\n",
    "# Don't using broadcast\n",
    "dfResult1 = df1.join(df2, df1.A1 == df2.B1, 'right_outer')\n",
    "dfResult1.show()\n",
    "\n",
    "# Using broadcast\n",
    "dfResult2 = df1.join(broadcast(df2), df1.A1 == df2.B1)\n",
    "dfResult2.show()\n",
    "\n",
    "###### Errors\n",
    "\n",
    "# Unsupported join type 'broadcast'\n",
    "# df1.join(df2, df1.A1 == df2.B1, 'broadcast').show()\n",
    "\n",
    "# 'DataFrame' object has no attribute 'merge'\n",
    "# df1.merge(df2, df1.A1 == df2.B1, 'broadcast').show()\n",
    "\n",
    "# Column is not iterable\n",
    "# df1.join(df2, broadcast(df1.A1 == df2.B1)).show()"
   ]
  },
  {
   "cell_type": "code",
   "execution_count": 18,
   "metadata": {},
   "outputs": [
    {
     "name": "stdout",
     "output_type": "stream",
     "text": [
      "== Physical Plan ==\n",
      "SortMergeJoin [A1#0L], [B1#4L], RightOuter\n",
      ":- *(2) Sort [A1#0L ASC NULLS FIRST], false, 0\n",
      ":  +- Exchange hashpartitioning(A1#0L, 200), true, [id=#372]\n",
      ":     +- *(1) Filter isnotnull(A1#0L)\n",
      ":        +- *(1) Scan ExistingRDD[A1#0L,A2#1]\n",
      "+- *(4) Sort [B1#4L ASC NULLS FIRST], false, 0\n",
      "   +- Exchange hashpartitioning(B1#4L, 200), true, [id=#377]\n",
      "      +- *(3) Scan ExistingRDD[B1#4L,B2#5]\n",
      "\n",
      "\n",
      "== Physical Plan ==\n",
      "*(2) BroadcastHashJoin [A1#0L], [B1#4L], Inner, BuildRight\n",
      ":- *(2) Filter isnotnull(A1#0L)\n",
      ":  +- *(2) Scan ExistingRDD[A1#0L,A2#1]\n",
      "+- BroadcastExchange HashedRelationBroadcastMode(List(input[0, bigint, false])), [id=#404]\n",
      "   +- *(1) Filter isnotnull(B1#4L)\n",
      "      +- *(1) Scan ExistingRDD[B1#4L,B2#5]\n",
      "\n",
      "\n"
     ]
    }
   ],
   "source": [
    "dfResult1.explain()\n",
    "dfResult2.explain()"
   ]
  },
  {
   "cell_type": "code",
   "execution_count": 20,
   "metadata": {},
   "outputs": [
    {
     "name": "stdout",
     "output_type": "stream",
     "text": [
      "== Parsed Logical Plan ==\n",
      "Join RightOuter, (A1#0L = B1#4L)\n",
      ":- LogicalRDD [A1#0L, A2#1], false\n",
      "+- LogicalRDD [B1#4L, B2#5], false\n",
      "\n",
      "== Analyzed Logical Plan ==\n",
      "A1: bigint, A2: string, B1: bigint, B2: string\n",
      "Join RightOuter, (A1#0L = B1#4L)\n",
      ":- LogicalRDD [A1#0L, A2#1], false\n",
      "+- LogicalRDD [B1#4L, B2#5], false\n",
      "\n",
      "== Optimized Logical Plan ==\n",
      "Join RightOuter, (A1#0L = B1#4L)\n",
      ":- Filter isnotnull(A1#0L)\n",
      ":  +- LogicalRDD [A1#0L, A2#1], false\n",
      "+- LogicalRDD [B1#4L, B2#5], false\n",
      "\n",
      "== Physical Plan ==\n",
      "SortMergeJoin [A1#0L], [B1#4L], RightOuter\n",
      ":- *(2) Sort [A1#0L ASC NULLS FIRST], false, 0\n",
      ":  +- Exchange hashpartitioning(A1#0L, 200), true, [id=#372]\n",
      ":     +- *(1) Filter isnotnull(A1#0L)\n",
      ":        +- *(1) Scan ExistingRDD[A1#0L,A2#1]\n",
      "+- *(4) Sort [B1#4L ASC NULLS FIRST], false, 0\n",
      "   +- Exchange hashpartitioning(B1#4L, 200), true, [id=#377]\n",
      "      +- *(3) Scan ExistingRDD[B1#4L,B2#5]\n",
      "\n"
     ]
    }
   ],
   "source": [
    "dfResult1.explain(True)"
   ]
  },
  {
   "cell_type": "code",
   "execution_count": 21,
   "metadata": {},
   "outputs": [
    {
     "name": "stdout",
     "output_type": "stream",
     "text": [
      "== Parsed Logical Plan ==\n",
      "Join Inner, (A1#0L = B1#4L)\n",
      ":- LogicalRDD [A1#0L, A2#1], false\n",
      "+- ResolvedHint (strategy=broadcast)\n",
      "   +- LogicalRDD [B1#4L, B2#5], false\n",
      "\n",
      "== Analyzed Logical Plan ==\n",
      "A1: bigint, A2: string, B1: bigint, B2: string\n",
      "Join Inner, (A1#0L = B1#4L)\n",
      ":- LogicalRDD [A1#0L, A2#1], false\n",
      "+- ResolvedHint (strategy=broadcast)\n",
      "   +- LogicalRDD [B1#4L, B2#5], false\n",
      "\n",
      "== Optimized Logical Plan ==\n",
      "Join Inner, (A1#0L = B1#4L), rightHint=(strategy=broadcast)\n",
      ":- Filter isnotnull(A1#0L)\n",
      ":  +- LogicalRDD [A1#0L, A2#1], false\n",
      "+- Filter isnotnull(B1#4L)\n",
      "   +- LogicalRDD [B1#4L, B2#5], false\n",
      "\n",
      "== Physical Plan ==\n",
      "*(2) BroadcastHashJoin [A1#0L], [B1#4L], Inner, BuildRight\n",
      ":- *(2) Filter isnotnull(A1#0L)\n",
      ":  +- *(2) Scan ExistingRDD[A1#0L,A2#1]\n",
      "+- BroadcastExchange HashedRelationBroadcastMode(List(input[0, bigint, false])), [id=#404]\n",
      "   +- *(1) Filter isnotnull(B1#4L)\n",
      "      +- *(1) Scan ExistingRDD[B1#4L,B2#5]\n",
      "\n"
     ]
    }
   ],
   "source": [
    "dfResult2.explain(True)"
   ]
  },
  {
   "cell_type": "code",
   "execution_count": 22,
   "metadata": {},
   "outputs": [
    {
     "name": "stdout",
     "output_type": "stream",
     "text": [
      "== Physical Plan ==\n",
      "* BroadcastHashJoin Inner BuildRight (6)\n",
      ":- * Filter (2)\n",
      ":  +- * Scan ExistingRDD (1)\n",
      "+- BroadcastExchange (5)\n",
      "   +- * Filter (4)\n",
      "      +- * Scan ExistingRDD (3)\n",
      "\n",
      "\n",
      "(1) Scan ExistingRDD [codegen id : 2]\n",
      "Output [2]: [A1#0L, A2#1]\n",
      "Arguments: [A1#0L, A2#1], MapPartitionsRDD[4] at applySchemaToPythonRDD at NativeMethodAccessorImpl.java:0, ExistingRDD, UnknownPartitioning(0)\n",
      "\n",
      "(2) Filter [codegen id : 2]\n",
      "Input [2]: [A1#0L, A2#1]\n",
      "Condition : isnotnull(A1#0L)\n",
      "\n",
      "(3) Scan ExistingRDD [codegen id : 1]\n",
      "Output [2]: [B1#4L, B2#5]\n",
      "Arguments: [B1#4L, B2#5], MapPartitionsRDD[9] at applySchemaToPythonRDD at NativeMethodAccessorImpl.java:0, ExistingRDD, UnknownPartitioning(0)\n",
      "\n",
      "(4) Filter [codegen id : 1]\n",
      "Input [2]: [B1#4L, B2#5]\n",
      "Condition : isnotnull(B1#4L)\n",
      "\n",
      "(5) BroadcastExchange\n",
      "Input [2]: [B1#4L, B2#5]\n",
      "Arguments: HashedRelationBroadcastMode(List(input[0, bigint, false])), [id=#404]\n",
      "\n",
      "(6) BroadcastHashJoin [codegen id : 2]\n",
      "Left keys [1]: [A1#0L]\n",
      "Right keys [1]: [B1#4L]\n",
      "Join condition: None\n",
      "\n",
      "\n"
     ]
    }
   ],
   "source": [
    "dfResult2.explain(mode=\"formatted\")"
   ]
  },
  {
   "cell_type": "code",
   "execution_count": 24,
   "metadata": {},
   "outputs": [
    {
     "name": "stdout",
     "output_type": "stream",
     "text": [
      "== Optimized Logical Plan ==\n",
      "Join RightOuter, (A1#0L = B1#4L), Statistics(sizeInBytes=8.51E+37 B)\n",
      ":- Filter isnotnull(A1#0L), Statistics(sizeInBytes=8.0 EiB)\n",
      ":  +- LogicalRDD [A1#0L, A2#1], false, Statistics(sizeInBytes=8.0 EiB)\n",
      "+- LogicalRDD [B1#4L, B2#5], false, Statistics(sizeInBytes=8.0 EiB)\n",
      "\n",
      "== Physical Plan ==\n",
      "SortMergeJoin [A1#0L], [B1#4L], RightOuter\n",
      ":- *(2) Sort [A1#0L ASC NULLS FIRST], false, 0\n",
      ":  +- Exchange hashpartitioning(A1#0L, 200), true, [id=#372]\n",
      ":     +- *(1) Filter isnotnull(A1#0L)\n",
      ":        +- *(1) Scan ExistingRDD[A1#0L,A2#1]\n",
      "+- *(4) Sort [B1#4L ASC NULLS FIRST], false, 0\n",
      "   +- Exchange hashpartitioning(B1#4L, 200), true, [id=#377]\n",
      "      +- *(3) Scan ExistingRDD[B1#4L,B2#5]\n",
      "\n",
      "\n"
     ]
    }
   ],
   "source": [
    "dfResult1.explain(\"cost\")"
   ]
  },
  {
   "cell_type": "code",
   "execution_count": 23,
   "metadata": {},
   "outputs": [
    {
     "name": "stdout",
     "output_type": "stream",
     "text": [
      "== Optimized Logical Plan ==\n",
      "Join Inner, (A1#0L = B1#4L), rightHint=(strategy=broadcast), Statistics(sizeInBytes=8.51E+37 B)\n",
      ":- Filter isnotnull(A1#0L), Statistics(sizeInBytes=8.0 EiB)\n",
      ":  +- LogicalRDD [A1#0L, A2#1], false, Statistics(sizeInBytes=8.0 EiB)\n",
      "+- Filter isnotnull(B1#4L), Statistics(sizeInBytes=8.0 EiB)\n",
      "   +- LogicalRDD [B1#4L, B2#5], false, Statistics(sizeInBytes=8.0 EiB)\n",
      "\n",
      "== Physical Plan ==\n",
      "*(2) BroadcastHashJoin [A1#0L], [B1#4L], Inner, BuildRight\n",
      ":- *(2) Filter isnotnull(A1#0L)\n",
      ":  +- *(2) Scan ExistingRDD[A1#0L,A2#1]\n",
      "+- BroadcastExchange HashedRelationBroadcastMode(List(input[0, bigint, false])), [id=#404]\n",
      "   +- *(1) Filter isnotnull(B1#4L)\n",
      "      +- *(1) Scan ExistingRDD[B1#4L,B2#5]\n",
      "\n",
      "\n"
     ]
    }
   ],
   "source": [
    "dfResult2.explain(\"cost\")"
   ]
  },
  {
   "cell_type": "code",
   "execution_count": null,
   "metadata": {},
   "outputs": [],
   "source": []
  }
 ],
 "metadata": {
  "interpreter": {
   "hash": "ac6ad6cad6e86b8f8ebaedbe94ebc31d728d6c0d8223a99e9449734cfa4d7995"
  },
  "kernelspec": {
   "display_name": "Python 3.8.3 64-bit ('base': conda)",
   "name": "python3"
  },
  "language_info": {
   "codemirror_mode": {
    "name": "ipython",
    "version": 3
   },
   "file_extension": ".py",
   "mimetype": "text/x-python",
   "name": "python",
   "nbconvert_exporter": "python",
   "pygments_lexer": "ipython3",
   "version": "3.8.3"
  },
  "orig_nbformat": 4
 },
 "nbformat": 4,
 "nbformat_minor": 2
}
