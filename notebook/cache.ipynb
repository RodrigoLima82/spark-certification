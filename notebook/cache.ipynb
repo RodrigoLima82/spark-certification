{
 "cells": [
  {
   "cell_type": "markdown",
   "metadata": {},
   "source": [
    "# CACHE()"
   ]
  },
  {
   "cell_type": "markdown",
   "metadata": {},
   "source": [
    "A sample of DataFrame itemsDf is below.\n",
    ">\n",
    "\n",
    "- `+——————+—————————————————————————————+———————————————————+`\n",
    "- `|itemId|attributes                   |supplier           |`\n",
    "- `+——————+—————————————————————————————+———————————————————+`\n",
    "- `|1     |[blue, winter, cozy]         |Sports Company Inc.|`\n",
    "- `|2     |[red, summer, fresh, cooling]|YetiX              |`\n",
    "- `|3     |[green, summer, travel]      |Sports Company Inc.|`\n",
    "- `+——————+—————————————————————————————+———————————————————+`"
   ]
  },
  {
   "cell_type": "code",
   "execution_count": 1,
   "metadata": {},
   "outputs": [],
   "source": [
    "from pyspark.sql import SparkSession\n",
    "from pyspark.sql.functions import explode, col\n",
    "\n",
    "spark = (\n",
    "    SparkSession.builder\n",
    "    .appName(\"example-cache\")\n",
    "    .getOrCreate()\n",
    ")"
   ]
  },
  {
   "cell_type": "code",
   "execution_count": 2,
   "metadata": {},
   "outputs": [
    {
     "name": "stdout",
     "output_type": "stream",
     "text": [
      "root\n",
      " |-- itemId: string (nullable = true)\n",
      " |-- attributes: array (nullable = true)\n",
      " |    |-- element: string (containsNull = true)\n",
      " |-- supplier: string (nullable = true)\n",
      "\n",
      "+------+--------------------+-------------------+\n",
      "|itemId|          attributes|           supplier|\n",
      "+------+--------------------+-------------------+\n",
      "|     1|[blue, winter, cozy]|Sports Company Inc.|\n",
      "|     2|[red, summer, fre...|              YetiX|\n",
      "|     3|[green, summer, t...|Sports Company Inc.|\n",
      "+------+--------------------+-------------------+\n",
      "\n"
     ]
    }
   ],
   "source": [
    "data = [\n",
    "        ('1',['blue', 'winter', 'cozy'],'Sports Company Inc.'),\n",
    "        ('2',['red', 'summer', 'fresh', 'cooling'],'YetiX'),\n",
    "        ('3',['green', 'summer', 'travel'],'Sports Company Inc.')]\n",
    "\n",
    "itemsDf = spark.createDataFrame(data=data, schema = ['itemId','attributes','supplier'])\n",
    "itemsDf.printSchema()\n",
    "itemsDf.show()"
   ]
  },
  {
   "cell_type": "code",
   "execution_count": 10,
   "metadata": {},
   "outputs": [
    {
     "data": {
      "text/plain": [
       "3"
      ]
     },
     "execution_count": 10,
     "metadata": {},
     "output_type": "execute_result"
    }
   ],
   "source": [
    "itemsDf.cache().count()\n"
   ]
  },
  {
   "cell_type": "code",
   "execution_count": 5,
   "metadata": {},
   "outputs": [],
   "source": [
    "itemsDf.createOrReplaceTempView(\"tbItemsDf\")"
   ]
  },
  {
   "cell_type": "code",
   "execution_count": 6,
   "metadata": {},
   "outputs": [],
   "source": [
    "spark.catalog.uncacheTable(\"tbItemsDf\")"
   ]
  },
  {
   "cell_type": "code",
   "execution_count": 11,
   "metadata": {},
   "outputs": [
    {
     "data": {
      "text/plain": [
       "DataFrame[itemId: string, attributes: array<string>, supplier: string]"
      ]
     },
     "execution_count": 11,
     "metadata": {},
     "output_type": "execute_result"
    }
   ],
   "source": [
    "itemsDf.unpersist()"
   ]
  },
  {
   "cell_type": "code",
   "execution_count": 4,
   "metadata": {},
   "outputs": [
    {
     "ename": "TypeError",
     "evalue": "cache() got an unexpected keyword argument 'eager'",
     "output_type": "error",
     "traceback": [
      "\u001b[0;31m---------------------------------------------------------------------------\u001b[0m",
      "\u001b[0;31mTypeError\u001b[0m                                 Traceback (most recent call last)",
      "\u001b[0;32m<ipython-input-4-51bc2148422b>\u001b[0m in \u001b[0;36m<module>\u001b[0;34m\u001b[0m\n\u001b[0;32m----> 1\u001b[0;31m \u001b[0mitemsDf\u001b[0m\u001b[0;34m.\u001b[0m\u001b[0mcache\u001b[0m\u001b[0;34m(\u001b[0m\u001b[0meager\u001b[0m\u001b[0;34m=\u001b[0m\u001b[0;32mTrue\u001b[0m\u001b[0;34m)\u001b[0m\u001b[0;34m\u001b[0m\u001b[0;34m\u001b[0m\u001b[0m\n\u001b[0m",
      "\u001b[0;31mTypeError\u001b[0m: cache() got an unexpected keyword argument 'eager'"
     ]
    }
   ],
   "source": [
    "# TypeError: cache() got an unexpected keyword argument 'eager'\n",
    "itemsDf.cache(eager=True)\n",
    "\n",
    "# NameError: name 'cache' is not defined\n",
    "cache(itemsDf)\n",
    "\n",
    "# TypeError: filter() missing 1 required positional argument: 'condition'\n",
    "itemsDf.cache().filter()\n",
    "\n",
    "# AttributeError: 'RDD' object has no attribute 'storeCopy'\n",
    "itemsDf.rdd.storeCopy()"
   ]
  },
  {
   "cell_type": "code",
   "execution_count": 13,
   "metadata": {},
   "outputs": [],
   "source": [
    "def my_udf(value):\n",
    "    if value is not None:\n",
    "        return len(value)\n"
   ]
  },
  {
   "cell_type": "code",
   "execution_count": 15,
   "metadata": {},
   "outputs": [
    {
     "name": "stdout",
     "output_type": "stream",
     "text": [
      "+------+--------------------+-------------------+\n",
      "|itemId|          attributes|           supplier|\n",
      "+------+--------------------+-------------------+\n",
      "|     1|[blue, winter, cozy]|Sports Company Inc.|\n",
      "|     3|[green, summer, t...|Sports Company Inc.|\n",
      "+------+--------------------+-------------------+\n",
      "\n"
     ]
    }
   ],
   "source": [
    "\n",
    "spark.udf.register(\"strlen\", my_udf)\n",
    "itemsDf.filter(\"strlen(supplier)>10\").show()"
   ]
  },
  {
   "cell_type": "code",
   "execution_count": null,
   "metadata": {},
   "outputs": [],
   "source": []
  }
 ],
 "metadata": {
  "interpreter": {
   "hash": "ac6ad6cad6e86b8f8ebaedbe94ebc31d728d6c0d8223a99e9449734cfa4d7995"
  },
  "kernelspec": {
   "display_name": "Python 3.8.3 64-bit ('base': conda)",
   "name": "python3"
  },
  "language_info": {
   "codemirror_mode": {
    "name": "ipython",
    "version": 3
   },
   "file_extension": ".py",
   "mimetype": "text/x-python",
   "name": "python",
   "nbconvert_exporter": "python",
   "pygments_lexer": "ipython3",
   "version": "3.8.3"
  },
  "orig_nbformat": 4
 },
 "nbformat": 4,
 "nbformat_minor": 2
}
