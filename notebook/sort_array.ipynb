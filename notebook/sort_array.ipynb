{
 "cells": [
  {
   "cell_type": "markdown",
   "metadata": {},
   "source": [
    "# SORT() + SORT_ARRAY()"
   ]
  },
  {
   "cell_type": "code",
   "execution_count": 21,
   "metadata": {},
   "outputs": [],
   "source": [
    "import pyspark\n",
    "from pyspark.sql import SparkSession\n",
    "from pyspark.sql.functions import *\n",
    "from pyspark.sql.types import *\n",
    "\n",
    "spark = (\n",
    "    SparkSession.builder\n",
    "    .appName(\"example-sort-array\")\n",
    "    .getOrCreate()\n",
    ")"
   ]
  },
  {
   "cell_type": "code",
   "execution_count": 22,
   "metadata": {},
   "outputs": [
    {
     "name": "stdout",
     "output_type": "stream",
     "text": [
      "root\n",
      " |-- itemId: string (nullable = true)\n",
      " |-- attributes: array (nullable = true)\n",
      " |    |-- element: string (containsNull = true)\n",
      " |-- supplier: string (nullable = true)\n",
      "\n",
      "+------+--------------------+-------------------+\n",
      "|itemId|          attributes|           supplier|\n",
      "+------+--------------------+-------------------+\n",
      "|     1|[blue, winter, cozy]|Sports Company Inc.|\n",
      "|     2|[red, summer, fre...|              YetiX|\n",
      "|     3|[green, summer, t...|Sports Company Inc.|\n",
      "+------+--------------------+-------------------+\n",
      "\n"
     ]
    }
   ],
   "source": [
    "data = [\n",
    "        ('1',['blue', 'winter', 'cozy'],'Sports Company Inc.'),\n",
    "        ('2',['red', 'summer', 'fresh', 'cooling'],'YetiX'),\n",
    "        ('3',['green', 'summer', 'travel'],'Sports Company Inc.')]\n",
    "\n",
    "itemsDf = spark.createDataFrame(data=data, schema = ['itemId','attributes','supplier'])\n",
    "itemsDf.printSchema()\n",
    "itemsDf.show()"
   ]
  },
  {
   "cell_type": "markdown",
   "metadata": {},
   "source": [
    "Which of the following code blocks reorders the values inside the arrays in column attributes of DataFrame itemsDf from last to first one in the alphabet?"
   ]
  },
  {
   "cell_type": "code",
   "execution_count": 20,
   "metadata": {},
   "outputs": [
    {
     "name": "stdout",
     "output_type": "stream",
     "text": [
      "+------+-----------------------------+-------------------+\n",
      "|itemId|attributes                   |supplier           |\n",
      "+------+-----------------------------+-------------------+\n",
      "|1     |[winter, cozy, blue]         |Sports Company Inc.|\n",
      "|2     |[summer, red, fresh, cooling]|YetiX              |\n",
      "|3     |[travel, summer, green]      |Sports Company Inc.|\n",
      "+------+-----------------------------+-------------------+\n",
      "\n"
     ]
    }
   ],
   "source": [
    "itemsDf.withColumn(\"attributes\", sort_array(\"attributes\", asc=False)).show(truncate=False)\n"
   ]
  },
  {
   "cell_type": "code",
   "execution_count": 19,
   "metadata": {},
   "outputs": [
    {
     "name": "stdout",
     "output_type": "stream",
     "text": [
      "+-----------------------------+\n",
      "|sort_array(attributes, true) |\n",
      "+-----------------------------+\n",
      "|[blue, cozy, winter]         |\n",
      "|[cooling, fresh, red, summer]|\n",
      "|[green, summer, travel]      |\n",
      "+-----------------------------+\n",
      "\n"
     ]
    }
   ],
   "source": [
    "itemsDf.select(sort_array(\"attributes\")).show(truncate=False)"
   ]
  },
  {
   "cell_type": "code",
   "execution_count": null,
   "metadata": {},
   "outputs": [],
   "source": [
    "# Py4JJavaError: An error occurred while calling o113.showString\n",
    "itemsDf.withColumn('attributes', sort_array(col('attributes').desc())).show()\n",
    "\n",
    "# An error occurred while calling o131.showString.\n",
    "itemsDf.withColumn('attributes', sort_array(desc('attributes'))).show()\n",
    "\n",
    "# NameError: name 'sort' is not defined\n",
    "itemsDf.withColumn('attributes', sort(col('attributes'), asc=False))\n"
   ]
  },
  {
   "cell_type": "markdown",
   "metadata": {},
   "source": [
    "You are given a DataFrame as shown below.\n",
    ">\n",
    "- `+——-+—-+———-+`\n",
    "- `|BatchID|Year|CourseName|`\n",
    "- `+——-+—-+———-+`\n",
    "- `| X1 |2020| Scala |`\n",
    "- `| X2 |2020| Python |`\n",
    "- `| X3 |null| Java |`\n",
    "- `| X4 |2021| Scala |`\n",
    "- `| X5 |null| Python |`\n",
    "- `| X6 |2021| Spark |`\n",
    "- `+——-+—-+———-+`\n",
    ">\n",
    "You want to sort this DataFrame by Year in descending order and you want all the nulls to appear first.\n",
    ">\n",
    "You are given some code blocks to do this. Choose the incorrect option."
   ]
  },
  {
   "cell_type": "code",
   "execution_count": 23,
   "metadata": {},
   "outputs": [
    {
     "name": "stdout",
     "output_type": "stream",
     "text": [
      "root\n",
      " |-- BatchID: string (nullable = true)\n",
      " |-- Year: long (nullable = true)\n",
      " |-- CourseName: string (nullable = true)\n",
      "\n",
      "+-------+----+----------+\n",
      "|BatchID|Year|CourseName|\n",
      "+-------+----+----------+\n",
      "|     X1|2020|     Scala|\n",
      "|     X2|2020|    Python|\n",
      "|     X3|null|      Java|\n",
      "|     X4|2021|     Scala|\n",
      "|     X5|null|    Python|\n",
      "|     X6|2021|     Spark|\n",
      "+-------+----+----------+\n",
      "\n"
     ]
    }
   ],
   "source": [
    "data = [\n",
    "        ('X1',2020,'Scala'),\n",
    "        ('X2',2020,'Python'),\n",
    "        ('X3',None,'Java'),\n",
    "        ('X4',2021,'Scala'),\n",
    "        ('X5',None,'Python'),\n",
    "        ('X6',2021,'Spark')]\n",
    "\n",
    "df = spark.createDataFrame(data=data, schema = ['BatchID','Year','CourseName'])\n",
    "df.printSchema()\n",
    "df.show()"
   ]
  },
  {
   "cell_type": "code",
   "execution_count": 25,
   "metadata": {},
   "outputs": [
    {
     "name": "stdout",
     "output_type": "stream",
     "text": [
      "+-------+----+----------+\n",
      "|BatchID|Year|CourseName|\n",
      "+-------+----+----------+\n",
      "|     X5|null|    Python|\n",
      "|     X3|null|      Java|\n",
      "|     X4|2021|     Scala|\n",
      "|     X6|2021|     Spark|\n",
      "|     X2|2020|    Python|\n",
      "|     X1|2020|     Scala|\n",
      "+-------+----+----------+\n",
      "\n"
     ]
    }
   ],
   "source": [
    "df.orderBy(desc_nulls_first(\"Year\")).show()\n"
   ]
  },
  {
   "cell_type": "code",
   "execution_count": 26,
   "metadata": {},
   "outputs": [
    {
     "name": "stdout",
     "output_type": "stream",
     "text": [
      "+-------+----+----------+\n",
      "|BatchID|Year|CourseName|\n",
      "+-------+----+----------+\n",
      "|     X3|null|      Java|\n",
      "|     X5|null|    Python|\n",
      "|     X4|2021|     Scala|\n",
      "|     X6|2021|     Spark|\n",
      "|     X1|2020|     Scala|\n",
      "|     X2|2020|    Python|\n",
      "+-------+----+----------+\n",
      "\n"
     ]
    }
   ],
   "source": [
    "df.sort(desc_nulls_first(\"Year\")).show()\n"
   ]
  },
  {
   "cell_type": "code",
   "execution_count": 29,
   "metadata": {},
   "outputs": [
    {
     "name": "stdout",
     "output_type": "stream",
     "text": [
      "+-------+----+----------+\n",
      "|BatchID|Year|CourseName|\n",
      "+-------+----+----------+\n",
      "|     X3|null|      Java|\n",
      "|     X5|null|    Python|\n",
      "|     X4|2021|     Scala|\n",
      "|     X6|2021|     Spark|\n",
      "|     X1|2020|     Scala|\n",
      "|     X2|2020|    Python|\n",
      "+-------+----+----------+\n",
      "\n"
     ]
    }
   ],
   "source": [
    "df.sort(df.Year.desc_nulls_first()).show()\n"
   ]
  },
  {
   "cell_type": "code",
   "execution_count": null,
   "metadata": {},
   "outputs": [],
   "source": [
    "# AnalysisException: Undefined function: 'desc_nulls_first'. \n",
    "# This function is neither a registered temporary function nor a permanent function registered in the database 'default'.\n",
    "df.orderBy(expr(\"desc_nulls_first(Year)\")).show()"
   ]
  }
 ],
 "metadata": {
  "interpreter": {
   "hash": "ac6ad6cad6e86b8f8ebaedbe94ebc31d728d6c0d8223a99e9449734cfa4d7995"
  },
  "kernelspec": {
   "display_name": "Python 3.8.3 64-bit ('base': conda)",
   "name": "python3"
  },
  "language_info": {
   "codemirror_mode": {
    "name": "ipython",
    "version": 3
   },
   "file_extension": ".py",
   "mimetype": "text/x-python",
   "name": "python",
   "nbconvert_exporter": "python",
   "pygments_lexer": "ipython3",
   "version": "3.8.3"
  },
  "orig_nbformat": 4
 },
 "nbformat": 4,
 "nbformat_minor": 2
}
