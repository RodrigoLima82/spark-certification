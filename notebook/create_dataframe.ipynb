{
 "cells": [
  {
   "cell_type": "markdown",
   "metadata": {},
   "source": [
    "# CREATE DATAFRAME"
   ]
  },
  {
   "cell_type": "code",
   "execution_count": 1,
   "metadata": {},
   "outputs": [],
   "source": [
    "import pyspark\n",
    "from pyspark.sql import SparkSession\n",
    "from pyspark.sql.functions import *\n",
    "from pyspark.sql.types import *\n",
    "\n",
    "spark = (\n",
    "    SparkSession.builder\n",
    "    .appName(\"example-create-dataframe\")\n",
    "    .getOrCreate()\n",
    ")"
   ]
  },
  {
   "cell_type": "code",
   "execution_count": 2,
   "metadata": {},
   "outputs": [
    {
     "name": "stdout",
     "output_type": "stream",
     "text": [
      "+-----+\n",
      "|color|\n",
      "+-----+\n",
      "|  red|\n",
      "| blue|\n",
      "|green|\n",
      "+-----+\n",
      "\n"
     ]
    }
   ],
   "source": [
    "colorDf = spark.createDataFrame([('red',), ('blue',), ('green',)], ['color'])\n",
    "colorDf.show()"
   ]
  },
  {
   "cell_type": "code",
   "execution_count": 6,
   "metadata": {},
   "outputs": [
    {
     "ename": "NameError",
     "evalue": "name 'CharType' is not defined",
     "output_type": "error",
     "traceback": [
      "\u001b[0;31m---------------------------------------------------------------------------\u001b[0m",
      "\u001b[0;31mNameError\u001b[0m                                 Traceback (most recent call last)",
      "\u001b[0;32m<ipython-input-6-c4af41ffef13>\u001b[0m in \u001b[0;36m<module>\u001b[0;34m\u001b[0m\n\u001b[1;32m      1\u001b[0m \u001b[0;31m# NameError: name 'CharType' is not defined\u001b[0m\u001b[0;34m\u001b[0m\u001b[0;34m\u001b[0m\u001b[0;34m\u001b[0m\u001b[0m\n\u001b[1;32m      2\u001b[0m tmp = spark.createDataFrame(((\"summer\", 4.5), (\"winter\", 7.5)), \n\u001b[0;32m----> 3\u001b[0;31m                             StructType([StructField(\"season\", CharType()), \n\u001b[0m\u001b[1;32m      4\u001b[0m                                           StructField(\"season\", DoubleType())]))\n",
      "\u001b[0;31mNameError\u001b[0m: name 'CharType' is not defined"
     ]
    }
   ],
   "source": [
    "# NameError: name 'CharType' is not defined\n",
    "tmp = spark.createDataFrame(((\"summer\", 4.5), (\"winter\", 7.5)), \n",
    "                            StructType([StructField(\"season\", CharType()), \n",
    "                                          StructField(\"season\", DoubleType())]))"
   ]
  },
  {
   "cell_type": "code",
   "execution_count": 7,
   "metadata": {},
   "outputs": [
    {
     "name": "stdout",
     "output_type": "stream",
     "text": [
      "root\n",
      " |-- season: string (nullable = true)\n",
      " |-- wind_speed_ms: double (nullable = true)\n",
      "\n",
      "+------+-------------+\n",
      "|season|wind_speed_ms|\n",
      "+------+-------------+\n",
      "|summer|          4.5|\n",
      "|winter|          7.5|\n",
      "+------+-------------+\n",
      "\n"
     ]
    }
   ],
   "source": [
    "tmp = spark.createDataFrame([(\"summer\", 4.5), (\"winter\", 7.5)], [\"season\", \"wind_speed_ms\"])\n",
    "tmp.printSchema()\n",
    "tmp.show()"
   ]
  },
  {
   "cell_type": "markdown",
   "metadata": {},
   "source": [
    "In which order should the code blocks shown below be run in order to create a table of all values in column attributes next to the respective values in column supplier in DataFrame itemsDf?\n",
    ">\n",
    "- `1. itemsDf.createOrReplaceView(“itemsDf”)`\n",
    "- `2. spark.sql(“FROM itemsDf SELECT ‘supplier’, explode(‘Attributes’)”)`\n",
    "- `3. spark.sql(“FROM itemsDf SELECT supplier, explode(attributes)”)`\n",
    "- `4. itemsDf.createOrReplaceTempView(“itemsDf”)`"
   ]
  },
  {
   "cell_type": "code",
   "execution_count": 8,
   "metadata": {},
   "outputs": [
    {
     "name": "stdout",
     "output_type": "stream",
     "text": [
      "root\n",
      " |-- itemId: long (nullable = true)\n",
      " |-- itemName: string (nullable = true)\n",
      " |-- attributes: array (nullable = true)\n",
      " |    |-- element: string (containsNull = true)\n",
      " |-- supplier: string (nullable = true)\n",
      "\n",
      "+------+--------------------+--------------------+-------------------+\n",
      "|itemId|            itemName|          attributes|           supplier|\n",
      "+------+--------------------+--------------------+-------------------+\n",
      "|     1|Thick Coat for Wa...|[blue, winter, cozy]|Sports Company Inc.|\n",
      "|     2|Elegant Outdoors ...|       [red, summer]|              YetiX|\n",
      "|     3|   Outdoors Backpack|     [green, summer]|Sports Company Inc.|\n",
      "+------+--------------------+--------------------+-------------------+\n",
      "\n"
     ]
    }
   ],
   "source": [
    "data = [(1, 'Thick Coat for Walking in the Snow', ['blue', 'winter', 'cozy'], 'Sports Company Inc.'),\n",
    "        (2, 'Elegant Outdoors Summer Dress', ['red', 'summer'], 'YetiX'),\n",
    "        (3, 'Outdoors Backpack', ['green', 'summer'], 'Sports Company Inc.')]\n",
    "\n",
    "columns = [\"itemId\", \"itemName\", \"attributes\", \"supplier\"]\n",
    "\n",
    "itemsDf = spark.createDataFrame(data=data, schema=columns)\n",
    "\n",
    "itemsDf.printSchema()\n",
    "itemsDf.show()"
   ]
  },
  {
   "cell_type": "code",
   "execution_count": 19,
   "metadata": {},
   "outputs": [],
   "source": [
    "itemsDf.createOrReplaceTempView(\"itemsDf\")"
   ]
  },
  {
   "cell_type": "code",
   "execution_count": 20,
   "metadata": {},
   "outputs": [
    {
     "name": "stdout",
     "output_type": "stream",
     "text": [
      "+-------------------+------+\n",
      "|           supplier|   col|\n",
      "+-------------------+------+\n",
      "|Sports Company Inc.|  blue|\n",
      "|Sports Company Inc.|winter|\n",
      "|Sports Company Inc.|  cozy|\n",
      "|              YetiX|   red|\n",
      "|              YetiX|summer|\n",
      "|Sports Company Inc.| green|\n",
      "|Sports Company Inc.|summer|\n",
      "+-------------------+------+\n",
      "\n"
     ]
    }
   ],
   "source": [
    "spark.sql(\"FROM itemsDf SELECT supplier, explode(attributes)\").show()"
   ]
  },
  {
   "cell_type": "code",
   "execution_count": 14,
   "metadata": {},
   "outputs": [
    {
     "ename": "AttributeError",
     "evalue": "'DataFrame' object has no attribute 'createOrReplaceView'",
     "output_type": "error",
     "traceback": [
      "\u001b[0;31m---------------------------------------------------------------------------\u001b[0m",
      "\u001b[0;31mAttributeError\u001b[0m                            Traceback (most recent call last)",
      "\u001b[0;32m<ipython-input-14-efac40333834>\u001b[0m in \u001b[0;36m<module>\u001b[0;34m\u001b[0m\n\u001b[1;32m      1\u001b[0m \u001b[0;31m# AttributeError: 'DataFrame' object has no attribute 'createOrReplaceView'\u001b[0m\u001b[0;34m\u001b[0m\u001b[0;34m\u001b[0m\u001b[0;34m\u001b[0m\u001b[0m\n\u001b[0;32m----> 2\u001b[0;31m \u001b[0mitemsDf\u001b[0m\u001b[0;34m.\u001b[0m\u001b[0mcreateOrReplaceView\u001b[0m\u001b[0;34m(\u001b[0m\u001b[0;34m\"itemsDf\"\u001b[0m\u001b[0;34m)\u001b[0m\u001b[0;34m\u001b[0m\u001b[0;34m\u001b[0m\u001b[0m\n\u001b[0m\u001b[1;32m      3\u001b[0m \u001b[0;34m\u001b[0m\u001b[0m\n\u001b[1;32m      4\u001b[0m \u001b[0;31m# AnalysisException: Table or view not found: itemsDf\u001b[0m\u001b[0;34m\u001b[0m\u001b[0;34m\u001b[0m\u001b[0;34m\u001b[0m\u001b[0m\n\u001b[1;32m      5\u001b[0m \u001b[0mspark\u001b[0m\u001b[0;34m.\u001b[0m\u001b[0msql\u001b[0m\u001b[0;34m(\u001b[0m\u001b[0;34m\"FROM itemsDf SELECT 'supplier', explode('Attributes')\"\u001b[0m\u001b[0;34m)\u001b[0m\u001b[0;34m\u001b[0m\u001b[0;34m\u001b[0m\u001b[0m\n",
      "\u001b[0;32m~/opt/anaconda3/lib/python3.8/site-packages/pyspark/sql/dataframe.py\u001b[0m in \u001b[0;36m__getattr__\u001b[0;34m(self, name)\u001b[0m\n\u001b[1;32m   1398\u001b[0m         \"\"\"\n\u001b[1;32m   1399\u001b[0m         \u001b[0;32mif\u001b[0m \u001b[0mname\u001b[0m \u001b[0;32mnot\u001b[0m \u001b[0;32min\u001b[0m \u001b[0mself\u001b[0m\u001b[0;34m.\u001b[0m\u001b[0mcolumns\u001b[0m\u001b[0;34m:\u001b[0m\u001b[0;34m\u001b[0m\u001b[0;34m\u001b[0m\u001b[0m\n\u001b[0;32m-> 1400\u001b[0;31m             raise AttributeError(\n\u001b[0m\u001b[1;32m   1401\u001b[0m                 \"'%s' object has no attribute '%s'\" % (self.__class__.__name__, name))\n\u001b[1;32m   1402\u001b[0m         \u001b[0mjc\u001b[0m \u001b[0;34m=\u001b[0m \u001b[0mself\u001b[0m\u001b[0;34m.\u001b[0m\u001b[0m_jdf\u001b[0m\u001b[0;34m.\u001b[0m\u001b[0mapply\u001b[0m\u001b[0;34m(\u001b[0m\u001b[0mname\u001b[0m\u001b[0;34m)\u001b[0m\u001b[0;34m\u001b[0m\u001b[0;34m\u001b[0m\u001b[0m\n",
      "\u001b[0;31mAttributeError\u001b[0m: 'DataFrame' object has no attribute 'createOrReplaceView'"
     ]
    }
   ],
   "source": [
    "# AttributeError: 'DataFrame' object has no attribute 'createOrReplaceView'\n",
    "itemsDf.createOrReplaceView(\"itemsDf\")\n",
    "\n",
    "# AnalysisException: cannot resolve 'explode('Attributes')'\n",
    "spark.sql(\"FROM itemsDf SELECT 'supplier', explode('Attributes')\")\n"
   ]
  },
  {
   "cell_type": "markdown",
   "metadata": {},
   "source": [
    "You are given a DataFrame which looks like below.\n",
    ">\n",
    "- `+—+—–+——+—-+———-+`\n",
    "- `| ID|FName| LName| DOB|Department|`\n",
    "- `+—+—–+——+—-+———-+`\n",
    "- `|101| John| Doe|1977| Software|`\n",
    "- `|102|David|Turner|1984| Support|`\n",
    "- `|103|Abdul| Hamid|1978| Account|`\n",
    "- `+—+—–+——+—-+———-+`\n",
    ">\n",
    "You are given a task to transform this DataFrame to the following structure.\n",
    ">\n",
    "- `+—+———————+———-+`\n",
    "- `|ID |PersonalDetails |Department|`\n",
    "- `+—+———————+———-+`\n",
    "- `|101|[John, Doe, 1977] |Software |`\n",
    "- `|102|[David, Turner, 1984]|Support |`\n",
    "- `|103|[Abdul, Hamid, 1978] |Account |`\n",
    "- `+—+———————+———-+\n",
    ">\n",
    "In this structure, the PersonalDetails is a child DataFrame inside a top-level parent DataFrame. This approach is known as creating DataFrame of DataFrames.\n",
    ">\n",
    "Choose the correct code for doing this transformation.\n",
    ">\n",
    "- `df1 = df.select(\"ID\", \"struct(FName,LName,DOB) as PersonalDetails\", \"Department\") df1.show(truncate=0)`\n",
    "- `df1 = df.selectExpr(\"ID\", \"struct(FName,LName,DOB) as PersonalDetails\", \"Department\") df1.show(truncate=0)`\n",
    "- `df1 = df.selectExpr(\"ID\", \"Array(FName,LName,DOB) as PersonalDetails\", \"Department\") df1.show(truncate=0)`\n"
   ]
  },
  {
   "cell_type": "code",
   "execution_count": 2,
   "metadata": {},
   "outputs": [
    {
     "name": "stdout",
     "output_type": "stream",
     "text": [
      "root\n",
      " |-- ID: long (nullable = true)\n",
      " |-- FName: string (nullable = true)\n",
      " |-- LName: string (nullable = true)\n",
      " |-- DOB: long (nullable = true)\n",
      " |-- Department: string (nullable = true)\n",
      "\n",
      "+---+-----+------+----+----------+\n",
      "| ID|FName| LName| DOB|Department|\n",
      "+---+-----+------+----+----------+\n",
      "|101| John|   Doe|1977|  Software|\n",
      "|102|David|Turner|1984|   Support|\n",
      "|103|Abdul| Hamid|1978|   Account|\n",
      "+---+-----+------+----+----------+\n",
      "\n"
     ]
    }
   ],
   "source": [
    "data = [(101, 'John', 'Doe', 1977, 'Software'),\n",
    "        (102, 'David', 'Turner', 1984, 'Support'),\n",
    "        (103, 'Abdul', 'Hamid', 1978, 'Account')]\n",
    "\n",
    "columns = [\"ID\", \"FName\", \"LName\", \"DOB\", \"Department\"]\n",
    "\n",
    "df = spark.createDataFrame(data=data, schema=columns)\n",
    "\n",
    "df.printSchema()\n",
    "df.show()"
   ]
  },
  {
   "cell_type": "code",
   "execution_count": 3,
   "metadata": {},
   "outputs": [
    {
     "name": "stdout",
     "output_type": "stream",
     "text": [
      "root\n",
      " |-- ID: long (nullable = true)\n",
      " |-- PersonalDetails: struct (nullable = false)\n",
      " |    |-- FName: string (nullable = true)\n",
      " |    |-- LName: string (nullable = true)\n",
      " |    |-- DOB: long (nullable = true)\n",
      " |-- Department: string (nullable = true)\n",
      "\n",
      "+---+---------------------+----------+\n",
      "|ID |PersonalDetails      |Department|\n",
      "+---+---------------------+----------+\n",
      "|101|[John, Doe, 1977]    |Software  |\n",
      "|102|[David, Turner, 1984]|Support   |\n",
      "|103|[Abdul, Hamid, 1978] |Account   |\n",
      "+---+---------------------+----------+\n",
      "\n"
     ]
    }
   ],
   "source": [
    "df1 = df.selectExpr(\"ID\", \"struct(FName,LName,DOB) as PersonalDetails\", \"Department\") \n",
    "df1.printSchema()\n",
    "df1.show(truncate=0)\n"
   ]
  },
  {
   "cell_type": "code",
   "execution_count": 8,
   "metadata": {},
   "outputs": [
    {
     "name": "stdout",
     "output_type": "stream",
     "text": [
      "+---+-----+------+----------+\n",
      "| ID|Fname| LName|Department|\n",
      "+---+-----+------+----------+\n",
      "|101| John|   Doe|  Software|\n",
      "|102|David|Turner|   Support|\n",
      "|103|Abdul| Hamid|   Account|\n",
      "+---+-----+------+----------+\n",
      "\n"
     ]
    }
   ],
   "source": [
    "df1.select(\"ID\", df1.PersonalDetails.Fname.alias(\"Fname\"), df1.PersonalDetails.LName.alias(\"LName\"), \"Department\").show()"
   ]
  },
  {
   "cell_type": "code",
   "execution_count": 12,
   "metadata": {},
   "outputs": [
    {
     "name": "stdout",
     "output_type": "stream",
     "text": [
      "root\n",
      " |-- ID: long (nullable = true)\n",
      " |-- PersonalDetails: array (nullable = false)\n",
      " |    |-- element: string (containsNull = true)\n",
      " |-- Department: string (nullable = true)\n",
      "\n",
      "+---+---------------------+----------+\n",
      "|ID |PersonalDetails      |Department|\n",
      "+---+---------------------+----------+\n",
      "|101|[John, Doe, 1977]    |Software  |\n",
      "|102|[David, Turner, 1984]|Support   |\n",
      "|103|[Abdul, Hamid, 1978] |Account   |\n",
      "+---+---------------------+----------+\n",
      "\n"
     ]
    }
   ],
   "source": [
    "df1 = df.selectExpr(\"ID\", \"Array(FName,LName,DOB) as PersonalDetails\", \"Department\") \n",
    "df1.printSchema()\n",
    "df1.show(truncate=0)"
   ]
  },
  {
   "cell_type": "code",
   "execution_count": 2,
   "metadata": {},
   "outputs": [
    {
     "name": "stdout",
     "output_type": "stream",
     "text": [
      "+-----+\n",
      "|value|\n",
      "+-----+\n",
      "| 2001|\n",
      "| 2002|\n",
      "| 2010|\n",
      "| 2020|\n",
      "| 2021|\n",
      "+-----+\n",
      "\n"
     ]
    }
   ],
   "source": [
    "years = [2001, 2002, 2010, 2020, 2021]\n",
    "df = spark.createDataFrame(years, IntegerType())\n",
    "df.show()"
   ]
  },
  {
   "cell_type": "code",
   "execution_count": 4,
   "metadata": {},
   "outputs": [
    {
     "name": "stdout",
     "output_type": "stream",
     "text": [
      "root\n",
      " |-- storeId: long (nullable = true)\n",
      " |-- openDate: long (nullable = true)\n",
      "\n",
      "+-------+----------+\n",
      "|storeId|  openDate|\n",
      "+-------+----------+\n",
      "|      0|1100746394|\n",
      "|      1|1474410343|\n",
      "|      2|1116610009|\n",
      "|      3|1180035265|\n",
      "|      4|1408024997|\n",
      "+-------+----------+\n",
      "\n"
     ]
    }
   ],
   "source": [
    "data = [(0, 1100746394),\n",
    "        (1, 1474410343),\n",
    "        (2, 1116610009),\n",
    "        (3, 1180035265),\n",
    "        (4, 1408024997)]\n",
    "\n",
    "columns = [\"storeId\", \"openDate\"]\n",
    "\n",
    "df = spark.createDataFrame(data=data, schema=columns)\n",
    "\n",
    "df.printSchema()\n",
    "df.show()"
   ]
  },
  {
   "cell_type": "code",
   "execution_count": 7,
   "metadata": {},
   "outputs": [
    {
     "name": "stdout",
     "output_type": "stream",
     "text": [
      "+-------+----------+-------------------------------+\n",
      "|storeId|openDate  |openDateString                 |\n",
      "+-------+----------+-------------------------------+\n",
      "|0      |1100746394|Thursday, Nov 18, 2004 12:53 AM|\n",
      "|1      |1474410343|Tuesday, Sep 20, 2016 7:25 PM  |\n",
      "|2      |1116610009|Friday, May 20, 2005 2:26 PM   |\n",
      "|3      |1180035265|Thursday, May 24, 2007 4:34 PM |\n",
      "|4      |1408024997|Thursday, Aug 14, 2014 11:03 AM|\n",
      "+-------+----------+-------------------------------+\n",
      "\n"
     ]
    }
   ],
   "source": [
    "simpleDateFormat = \"EEEE, MMM d, yyyy h:mm a\"\n",
    "df.withColumn(\"openDateString\", from_unixtime(col(\"openDate\"), simpleDateFormat)).show(truncate=False)"
   ]
  },
  {
   "cell_type": "code",
   "execution_count": 9,
   "metadata": {},
   "outputs": [
    {
     "name": "stdout",
     "output_type": "stream",
     "text": [
      "+-------+----------+-------------------+-----+\n",
      "|storeId|  openDate|      openTimestamp|month|\n",
      "+-------+----------+-------------------+-----+\n",
      "|      0|1100746394|2004-11-18 00:53:14|   11|\n",
      "|      1|1474410343|2016-09-20 19:25:43|    9|\n",
      "|      2|1116610009|2005-05-20 14:26:49|    5|\n",
      "|      3|1180035265|2007-05-24 16:34:25|    5|\n",
      "|      4|1408024997|2014-08-14 11:03:17|    8|\n",
      "+-------+----------+-------------------+-----+\n",
      "\n"
     ]
    }
   ],
   "source": [
    "df.withColumn(\"openTimestamp\", col(\"openDate\").cast(\"Timestamp\")) \\\n",
    "  .withColumn(\"month\", month(col(\"openTimestamp\"))) \\\n",
    "  .show()"
   ]
  },
  {
   "cell_type": "code",
   "execution_count": null,
   "metadata": {},
   "outputs": [],
   "source": []
  }
 ],
 "metadata": {
  "interpreter": {
   "hash": "ac6ad6cad6e86b8f8ebaedbe94ebc31d728d6c0d8223a99e9449734cfa4d7995"
  },
  "kernelspec": {
   "display_name": "Python 3.8.3 64-bit ('base': conda)",
   "name": "python3"
  },
  "language_info": {
   "codemirror_mode": {
    "name": "ipython",
    "version": 3
   },
   "file_extension": ".py",
   "mimetype": "text/x-python",
   "name": "python",
   "nbconvert_exporter": "python",
   "pygments_lexer": "ipython3",
   "version": "3.8.3"
  },
  "orig_nbformat": 4
 },
 "nbformat": 4,
 "nbformat_minor": 2
}
